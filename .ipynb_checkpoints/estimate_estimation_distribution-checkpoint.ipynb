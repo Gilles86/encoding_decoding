{
 "cells": [
  {
   "cell_type": "code",
   "execution_count": 1,
   "metadata": {},
   "outputs": [],
   "source": [
    "from model import OrientationWei, vonmises180, vonmises180_sample\n",
    "import matplotlib.pyplot as plt\n",
    "import seaborn as sns\n",
    "from scipy.integrate import simpson\n",
    "import numpy as np\n",
    "from scipy.interpolate import UnivariateSpline, interp1d"
   ]
  },
  {
   "cell_type": "code",
   "execution_count": 2,
   "metadata": {},
   "outputs": [],
   "source": [
    "model = OrientationWei()"
   ]
  },
  {
   "cell_type": "markdown",
   "metadata": {},
   "source": [
    "We start with some $\\theta_0$ for which we want to estimate a _distribution_ of estimates of the subject $\\hat{\\theta}$: \n",
    "\n",
    "$p(\\hat{\\theta}|\\theta_0)$"
   ]
  },
  {
   "cell_type": "code",
   "execution_count": 3,
   "metadata": {},
   "outputs": [],
   "source": [
    "theta0 = .2*np.pi\n",
    "theta0_ = model.stim2rep(theta0)"
   ]
  },
  {
   "cell_type": "markdown",
   "metadata": {},
   "source": [
    "We also have a noise term $\\sigma$ that steers the noisiness of the likelihood in sensory sapce"
   ]
  },
  {
   "cell_type": "code",
   "execution_count": 4,
   "metadata": {},
   "outputs": [],
   "source": [
    "sigma_rep = 0.05"
   ]
  },
  {
   "cell_type": "markdown",
   "metadata": {},
   "source": [
    "First, we estimate how likely different sensory measurements $m$ are for the given $\\theta_0$"
   ]
  },
  {
   "cell_type": "code",
   "execution_count": 5,
   "metadata": {},
   "outputs": [],
   "source": [
    "pm = vonmises180(theta0_, sigma_rep, model.rep_grid)"
   ]
  },
  {
   "cell_type": "markdown",
   "metadata": {},
   "source": [
    "Our strategy is now as follows: for each m that we have, we are going to calculate what the subject's best estimate of $\\theta$, is, namely the expected value $E[\\theta]$, or $\\hat{\\theta}$ (Equation 11 in Wei & Stocker)."
   ]
  },
  {
   "cell_type": "code",
   "execution_count": 6,
   "metadata": {},
   "outputs": [],
   "source": [
    "theta_est_ = model.subject_estimate_theta(model.rep_grid, sigma_rep=sigma_rep)\n",
    "theta_est = interp1d(model.rep_grid, theta_est_, fill_value='extrapolate', bounds_error=False)"
   ]
  },
  {
   "cell_type": "markdown",
   "metadata": {},
   "source": [
    "Now, we have a distribution of $m$ s, as well as their corresponding estimates. This lookup-table is basically a _transfer function_ $f(m) -> \\theta$, that transfers measurements $m$ to the stimulus space $\\theta$.\n",
    "\n"
   ]
  },
  {
   "cell_type": "markdown",
   "metadata": {},
   "source": [
    "However, since $m$ is a _random variable_ we have to use the gradient of that transfer function $f'(m)$ to correct for contractions and expansions of the probability density. We can just estimate that as a lookup-table as well"
   ]
  },
  {
   "cell_type": "code",
   "execution_count": 7,
   "metadata": {},
   "outputs": [],
   "source": [
    "theta_est_dx_ = np.gradient(theta_est_.squeeze(), model.rep_grid)\n",
    "theta_est_dx = interp1d(model.rep_grid, theta_est_dx_, fill_value='extrapolate', bounds_error=False)"
   ]
  },
  {
   "cell_type": "markdown",
   "metadata": {},
   "source": [
    "To get the density function of $p(\\theta)$, we just have to do\n",
    "\n",
    "$p(\\hat{\\theta}|\\theta_0) = \\frac{p(m|\\theta_0)}{f'(m)}$"
   ]
  },
  {
   "cell_type": "code",
   "execution_count": 8,
   "metadata": {},
   "outputs": [],
   "source": [
    "ptheta = pm/theta_est_dx(model.rep_grid)"
   ]
  },
  {
   "cell_type": "code",
   "execution_count": 9,
   "metadata": {},
   "outputs": [
    {
     "data": {
      "text/plain": [
       "<matplotlib.lines.Line2D at 0x7faa810b2580>"
      ]
     },
     "execution_count": 9,
     "metadata": {},
     "output_type": "execute_result"
    },
    {
     "data": {
      "image/png": "[encoded data removed]",
      "text/plain": [
       "<Figure size 432x288 with 1 Axes>"
      ]
     },
     "metadata": {
      "needs_background": "light"
     },
     "output_type": "display_data"
    }
   ],
   "source": [
    "plt.plot(model.stim_grid_, ptheta, color='k')\n",
    "sns.despine()\n",
    "plt.axvline(theta0, c='k', ls='--')"
   ]
  },
  {
   "cell_type": "markdown",
   "metadata": {},
   "source": [
    "To check whether this all makes sense, we are going to simulate a bunch of $m$ s and estimate their corresponding $\\hat{\\theta}$ s (blue), and overlay the estimated density function (orange)"
   ]
  },
  {
   "cell_type": "code",
   "execution_count": 10,
   "metadata": {},
   "outputs": [
    {
     "data": {
      "text/plain": [
       "[<matplotlib.lines.Line2D at 0x7faa8112e880>]"
      ]
     },
     "execution_count": 10,
     "metadata": {},
     "output_type": "execute_result"
    },
    {
     "data": {
      "image/png": "[encoded data removed]",
      "text/plain": [
       "<Figure size 432x288 with 1 Axes>"
      ]
     },
     "metadata": {
      "needs_background": "light"
     },
     "output_type": "display_data"
    }
   ],
   "source": [
    "# For a given theta0, gets converted it to sensory space and then can have different posssible sensory representation coming from vonmises\n",
    "samples_m = vonmises180_sample(theta0_, sigma_rep, 5000)\n",
    "\n",
    "# Subject estimates a given posterior estimate for each m from this vonmises\n",
    "estimates = model.subject_estimate_theta(np.array(samples_m), sigma_rep)\n",
    "\n",
    "sns.histplot(estimates.squeeze(), stat='density')\n",
    "plt.plot(model.stim_grid_, ptheta, color='orange')"
   ]
  },
  {
   "cell_type": "code",
   "execution_count": 11,
   "metadata": {},
   "outputs": [],
   "source": [
    "from ipywidgets import interact"
   ]
  },
  {
   "cell_type": "code",
   "execution_count": 12,
   "metadata": {},
   "outputs": [
    {
     "data": {
      "application/vnd.jupyter.widget-view+json": {
       "model_id": "2563406ecff041178b7d493644b5de6a",
       "version_major": 2,
       "version_minor": 0
      },
      "text/plain": [
       "interactive(children=(FloatSlider(value=3.141592653589793, description='theta0', max=6.283185307179586), Float…"
      ]
     },
     "metadata": {},
     "output_type": "display_data"
    },
    {
     "data": {
      "text/plain": [
       "<function __main__.plot_estimate_distribution(theta0, sigma_rep, simulation=True)>"
      ]
     },
     "execution_count": 12,
     "metadata": {},
     "output_type": "execute_result"
    }
   ],
   "source": [
    "# @interactive(theta0=(0, np.pi*2.), sigma_rep=(0, 1))\n",
    "def plot_estimate_distribution(theta0, sigma_rep, simulation=True):\n",
    "    theta0_ = model.stim2rep(theta0)\n",
    "    pm = vonmises180(theta0_, sigma_rep, model.rep_grid)\n",
    "    theta_est_ = model.subject_estimate_theta(model.rep_grid, sigma_rep=sigma_rep)\n",
    "    # theta_est = interp1d(model.rep_grid, theta_est_, fill_value='extrapolate', bounds_error=False)\n",
    "    theta_est_dx_ = np.gradient(theta_est_.squeeze(), model.rep_grid)\n",
    "    theta_est_dx = interp1d(model.rep_grid, theta_est_dx_, fill_value='extrapolate', bounds_error=False)\n",
    "    ptheta = pm/theta_est_dx(model.rep_grid)\n",
    "\n",
    "\n",
    "\n",
    "    if simulation:\n",
    "        samples_m = vonmises180_sample(theta0_, sigma_rep, 5000)\n",
    "\n",
    "        # Subject estimates a given posterior estimate for each m from this vonmises\n",
    "        estimates = model.subject_estimate_theta(np.array(samples_m), sigma_rep)\n",
    "\n",
    "        sns.histplot(estimates.squeeze(), stat='density')\n",
    "\n",
    "    plt.plot(model.stim_grid_, ptheta, color='orange')\n",
    "    sns.despine()\n",
    "    plt.axvline(theta0, c='orange', ls='--')\n",
    "\n",
    "interact(plot_estimate_distribution, theta0=(0, np.pi*2.), sigma_rep=(0.01, 1),\n",
    "simulation=(False, True))\n"
   ]
  },
  {
   "cell_type": "code",
   "execution_count": null,
   "metadata": {},
   "outputs": [],
   "source": []
  },
  {
   "cell_type": "code",
   "execution_count": null,
   "metadata": {},
   "outputs": [],
   "source": []
  }
 ],
 "metadata": {
  "kernelspec": {
   "display_name": "Python 3 (ipykernel)",
   "language": "python",
   "name": "python3"
  },
  "language_info": {
   "codemirror_mode": {
    "name": "ipython",
    "version": 3
   },
   "file_extension": ".py",
   "mimetype": "text/x-python",
   "name": "python",
   "nbconvert_exporter": "python",
   "pygments_lexer": "ipython3",
   "version": "3.8.5"
  },
  "vscode": {
   "interpreter": {
    "hash": "a128080c8c39cf33963eaaa0fee95f5610fd25c7c34c91613760903d9a2a0b15"
   }
  }
 },
 "nbformat": 4,
 "nbformat_minor": 2
}
