{
 "cells": [
  {
   "cell_type": "code",
   "execution_count": 1,
   "id": "c9f878fe",
   "metadata": {},
   "outputs": [],
   "source": [
    "from oldModel import OrientationWei, sensory_noise_dist, sensory_noise_dist_sample\n",
    "import matplotlib.pyplot as plt\n",
    "import seaborn as sns\n",
    "sns.set_context('talk')\n",
    "from scipy.integrate import simpson, trapezoid\n",
    "import numpy as np\n",
    "from scipy.interpolate import UnivariateSpline, interp1d\n",
    "from ipywidgets import interact\n",
    "from scipy import integrate\n",
    "import scipy.stats as ss"
   ]
  },
  {
   "cell_type": "code",
   "execution_count": 2,
   "id": "5efe707a",
   "metadata": {},
   "outputs": [],
   "source": [
    "import riskModelValuation as model"
   ]
  },
  {
   "cell_type": "code",
   "execution_count": 3,
   "id": "111ef055",
   "metadata": {},
   "outputs": [],
   "source": [
    "theta0 = 0.6#np.linspace(0.001, 1.99*np.pi, 15)"
   ]
  },
  {
   "cell_type": "code",
   "execution_count": 4,
   "id": "87a0b771",
   "metadata": {},
   "outputs": [
    {
     "name": "stderr",
     "output_type": "stream",
     "text": [
      "/Users/sbedi/opt/anaconda3/lib/python3.8/site-packages/numpy/core/fromnumeric.py:1970: VisibleDeprecationWarning: Creating an ndarray from ragged nested sequences (which is a list-or-tuple of lists-or-tuples-or ndarrays with different lengths or shapes) is deprecated. If you meant to do this, you must specify 'dtype=object' when creating the ndarray.\n",
      "  result = asarray(a).shape\n"
     ]
    },
    {
     "data": {
      "text/plain": [
       "(2,)"
      ]
     },
     "execution_count": 4,
     "metadata": {},
     "output_type": "execute_result"
    }
   ],
   "source": [
    "np.shape(model.prior_val(model.stim_grid, type = \"prior\"))\n"
   ]
  },
  {
   "cell_type": "code",
   "execution_count": 5,
   "id": "3951779d",
   "metadata": {},
   "outputs": [],
   "source": [
    "grid = theta0"
   ]
  },
  {
   "cell_type": "code",
   "execution_count": 6,
   "id": "28b0b5df",
   "metadata": {},
   "outputs": [],
   "source": [
    "p_dist = ss.vonmises(loc=0.5, kappa=1/0.01**2).pdf(grid)"
   ]
  },
  {
   "cell_type": "code",
   "execution_count": 7,
   "id": "b8c14401",
   "metadata": {},
   "outputs": [],
   "source": [
    "grid = np.array(grid)\n",
    "\n",
    "# For every bin in x_stim, calculate the probability mass within that bin\n",
    "dgrid = grid[..., 1:] - grid[..., :-1]\n",
    "p_mass = ((p_dist[..., 1:] + p_dist[..., :-1]) / 2) * dgrid"
   ]
  },
  {
   "cell_type": "code",
   "execution_count": 8,
   "id": "f81367c8",
   "metadata": {},
   "outputs": [
    {
     "data": {
      "text/plain": [
       "(14,)"
      ]
     },
     "execution_count": 8,
     "metadata": {},
     "output_type": "execute_result"
    }
   ],
   "source": [
    "np.shape(p_mass)"
   ]
  },
  {
   "cell_type": "code",
   "execution_count": 9,
   "id": "ded5d717",
   "metadata": {},
   "outputs": [
    {
     "data": {
      "text/plain": [
       "(14,)"
      ]
     },
     "execution_count": 9,
     "metadata": {},
     "output_type": "execute_result"
    }
   ],
   "source": [
    "np.shape(dgrid)"
   ]
  },
  {
   "cell_type": "code",
   "execution_count": 10,
   "id": "0ce3c6b2",
   "metadata": {},
   "outputs": [],
   "source": [
    "grid_value = model.value_function_ori(grid[..., :-1] + dgrid / 2., type = \"prior\")"
   ]
  },
  {
   "cell_type": "code",
   "execution_count": 11,
   "id": "15a56b44",
   "metadata": {},
   "outputs": [
    {
     "data": {
      "text/plain": [
       "(14,)"
      ]
     },
     "execution_count": 11,
     "metadata": {},
     "output_type": "execute_result"
    }
   ],
   "source": [
    "np.shape(grid_value)"
   ]
  },
  {
   "cell_type": "code",
   "execution_count": 12,
   "id": "82d4cbd1",
   "metadata": {},
   "outputs": [],
   "source": [
    "ps = []\n",
    "h, edges = np.histogram(grid_value, bins=100, weights=p_mass, density=True)\n",
    "ps.append(h)"
   ]
  },
  {
   "cell_type": "code",
   "execution_count": null,
   "id": "440128e1",
   "metadata": {},
   "outputs": [],
   "source": []
  },
  {
   "cell_type": "code",
   "execution_count": null,
   "id": "631b443e",
   "metadata": {},
   "outputs": [],
   "source": []
  },
  {
   "cell_type": "code",
   "execution_count": 13,
   "id": "5dfa180b",
   "metadata": {},
   "outputs": [],
   "source": [
    "val_noise = model.stimulus_val_noise(x = theta0, sd = 0.005*np.pi, grid = model.stim_grid, type = \"prior\")"
   ]
  },
  {
   "cell_type": "code",
   "execution_count": 14,
   "id": "ded5161d",
   "metadata": {},
   "outputs": [
    {
     "data": {
      "text/plain": [
       "array([[0.00000000e+000, 0.00000000e+000, 0.00000000e+000, ...,\n",
       "        0.00000000e+000, 5.00804051e+000, 0.00000000e+000],\n",
       "       [1.92371305e-064, 6.59830498e-048, 6.15473197e-043, ...,\n",
       "        0.00000000e+000, 2.09793496e-164, 0.00000000e+000],\n",
       "       [9.92355194e-002, 1.94398338e+000, 5.01544495e+000, ...,\n",
       "        0.00000000e+000, 0.00000000e+000, 0.00000000e+000],\n",
       "       ...,\n",
       "       [1.24466967e-004, 4.01691511e-002, 1.24770668e+000, ...,\n",
       "        0.00000000e+000, 0.00000000e+000, 0.00000000e+000],\n",
       "       [6.15496139e-051, 2.28320311e-036, 4.66866997e-032, ...,\n",
       "        0.00000000e+000, 1.07541036e-187, 0.00000000e+000],\n",
       "       [0.00000000e+000, 0.00000000e+000, 0.00000000e+000, ...,\n",
       "        0.00000000e+000, 1.13113687e+000, 0.00000000e+000]])"
      ]
     },
     "execution_count": 14,
     "metadata": {},
     "output_type": "execute_result"
    }
   ],
   "source": [
    "val_noise"
   ]
  },
  {
   "cell_type": "code",
   "execution_count": 7,
   "id": "bfec6d41",
   "metadata": {},
   "outputs": [
    {
     "data": {
      "text/plain": [
       "[<matplotlib.lines.Line2D at 0x7f9308c2aa30>]"
      ]
     },
     "execution_count": 7,
     "metadata": {},
     "output_type": "execute_result"
    },
    {
     "data": {
      "image/png": "[encoded data removed]",
      "text/plain": [
       "<Figure size 432x288 with 1 Axes>"
      ]
     },
     "metadata": {
      "needs_background": "light"
     },
     "output_type": "display_data"
    }
   ],
   "source": [
    "plt.plot(model.cdf_val([.1,0.3,0.5,0.9], \"prior\"))"
   ]
  },
  {
   "cell_type": "code",
   "execution_count": 8,
   "id": "9a992824",
   "metadata": {},
   "outputs": [
    {
     "data": {
      "text/plain": [
       "[<matplotlib.lines.Line2D at 0x7f92f9874820>]"
      ]
     },
     "execution_count": 8,
     "metadata": {},
     "output_type": "execute_result"
    },
    {
     "data": {
      "image/png": "[encoded data removed]",
      "text/plain": [
       "<Figure size 432x288 with 1 Axes>"
      ]
     },
     "metadata": {
      "needs_background": "light"
     },
     "output_type": "display_data"
    }
   ],
   "source": [
    "plt.plot(model.prior_val(theta0, type = \"linearPrior\")[0], model.prior_val(theta0, type = \"linearPrior\")[1])"
   ]
  },
  {
   "cell_type": "code",
   "execution_count": 9,
   "id": "10f1f0d6",
   "metadata": {},
   "outputs": [],
   "source": [
    "val, prob_val = model.prior_val(model.stim_grid, type = \"linearPrior\")"
   ]
  },
  {
   "cell_type": "code",
   "execution_count": 10,
   "id": "a8fbf8d8",
   "metadata": {},
   "outputs": [
    {
     "data": {
      "text/plain": [
       "(100,)"
      ]
     },
     "execution_count": 10,
     "metadata": {},
     "output_type": "execute_result"
    }
   ],
   "source": [
    "np.shape(prob_val)"
   ]
  },
  {
   "cell_type": "code",
   "execution_count": 11,
   "id": "8b766a0a",
   "metadata": {},
   "outputs": [
    {
     "data": {
      "text/plain": [
       "[<matplotlib.lines.Line2D at 0x7f92e035a2b0>]"
      ]
     },
     "execution_count": 11,
     "metadata": {},
     "output_type": "execute_result"
    },
    {
     "data": {
      "image/png": "[encoded data removed]",
      "text/plain": [
       "<Figure size 432x288 with 1 Axes>"
      ]
     },
     "metadata": {
      "needs_background": "light"
     },
     "output_type": "display_data"
    }
   ],
   "source": [
    "plt.plot(integrate.cumtrapz(prob_val, val, initial=0.0))"
   ]
  },
  {
   "cell_type": "code",
   "execution_count": null,
   "id": "5ab37c96",
   "metadata": {},
   "outputs": [],
   "source": []
  },
  {
   "cell_type": "code",
   "execution_count": 12,
   "id": "1fe589b3",
   "metadata": {},
   "outputs": [
    {
     "data": {
      "text/plain": [
       "(100,)"
      ]
     },
     "execution_count": 12,
     "metadata": {},
     "output_type": "execute_result"
    }
   ],
   "source": [
    "np.shape(val)"
   ]
  },
  {
   "cell_type": "code",
   "execution_count": 13,
   "id": "a765edd8",
   "metadata": {},
   "outputs": [
    {
     "data": {
      "text/plain": [
       "[<matplotlib.lines.Line2D at 0x7f92f9884a90>]"
      ]
     },
     "execution_count": 13,
     "metadata": {},
     "output_type": "execute_result"
    },
    {
     "data": {
      "image/png": "[encoded data removed]",
      "text/plain": [
       "<Figure size 432x288 with 1 Axes>"
      ]
     },
     "metadata": {
      "needs_background": "light"
     },
     "output_type": "display_data"
    }
   ],
   "source": [
    "plt.plot(val, val_noise[5,:])"
   ]
  },
  {
   "cell_type": "markdown",
   "id": "e2f61c2c",
   "metadata": {},
   "source": [
    "###### "
   ]
  },
  {
   "cell_type": "code",
   "execution_count": 14,
   "id": "07909ef2",
   "metadata": {},
   "outputs": [
    {
     "data": {
      "text/plain": [
       "(100,)"
      ]
     },
     "execution_count": 14,
     "metadata": {},
     "output_type": "execute_result"
    }
   ],
   "source": [
    "np.shape(val)"
   ]
  },
  {
   "cell_type": "code",
   "execution_count": 15,
   "id": "bb9be883",
   "metadata": {},
   "outputs": [],
   "source": [
    "p_val_given_theta0 = model.stimulus_val_noise(theta0, sd=0.01, grid=model.stim_grid, type = \"prior\")"
   ]
  },
  {
   "cell_type": "code",
   "execution_count": 16,
   "id": "c1d09bb3",
   "metadata": {},
   "outputs": [
    {
     "data": {
      "text/plain": [
       "(15, 100)"
      ]
     },
     "execution_count": 16,
     "metadata": {},
     "output_type": "execute_result"
    }
   ],
   "source": [
    "np.shape(p_val_given_theta0)"
   ]
  },
  {
   "cell_type": "code",
   "execution_count": 18,
   "id": "69b29d8b",
   "metadata": {},
   "outputs": [],
   "source": [
    "x = theta0\n",
    "type = \"prior\"\n",
    "sd = 0.001\n",
    "grid = model.stim_grid\n",
    "grid = grid[np.newaxis, :]\n",
    "x = x[:, np.newaxis]\n",
    "grid = np.array(grid)\n",
    "p_noise_ori = ss.vonmises(loc=x, kappa=1/sd**2).pdf(grid)"
   ]
  },
  {
   "cell_type": "code",
   "execution_count": 19,
   "id": "ef1d7c2a",
   "metadata": {},
   "outputs": [
    {
     "data": {
      "text/plain": [
       "((1, 499), (15, 499))"
      ]
     },
     "execution_count": 19,
     "metadata": {},
     "output_type": "execute_result"
    }
   ],
   "source": [
    "d_grid = grid[..., 1:] - grid[..., :-1]\n",
    "p_mass = ((p_noise_ori[..., 1:] + p_noise_ori[..., :-1]) / 2) * d_grid\n",
    "x_value = model.value_function_ori(grid[...,:-1] + d_grid / 2., type)\n",
    "ps = []\n",
    "# h, edges = np.histogram(x_value, bins=500, weights=p_mass, density=True)\n",
    "# ps.append(h)\n",
    "np.shape(x_value), np.shape(p_mass)"
   ]
  },
  {
   "cell_type": "code",
   "execution_count": 20,
   "id": "3740d564",
   "metadata": {},
   "outputs": [],
   "source": [
    "a = np.repeat(x_value, 500)"
   ]
  },
  {
   "cell_type": "code",
   "execution_count": 21,
   "id": "a70c462a",
   "metadata": {},
   "outputs": [],
   "source": [
    "sigma_stim = 0.001\n",
    "sigma_rep = 0.001\n",
    "    \n",
    "p_m_given_theta0, p_m_given_theta = model.value_efficient_encoding(theta0, sigma_stim, sigma_rep, type = \"prior\")"
   ]
  },
  {
   "cell_type": "code",
   "execution_count": 22,
   "id": "393b67f9",
   "metadata": {},
   "outputs": [],
   "source": [
    "val_centers, val_prior = model.prior_val(model.stim_grid, type)"
   ]
  },
  {
   "cell_type": "code",
   "execution_count": 23,
   "id": "5f2d0d43",
   "metadata": {},
   "outputs": [
    {
     "ename": "ValueError",
     "evalue": "operands could not be broadcast together with shapes (500,300) (100,1) ",
     "output_type": "error",
     "traceback": [
      "\u001b[0;31m---------------------------------------------------------------------------\u001b[0m",
      "\u001b[0;31mValueError\u001b[0m                                Traceback (most recent call last)",
      "\u001b[0;32m/var/folders/fg/ps8b9dqs3b3cgp4jb85dxwfnsyv51d/T/ipykernel_18430/180492390.py\u001b[0m in \u001b[0;36m<module>\u001b[0;34m\u001b[0m\n\u001b[0;32m----> 1\u001b[0;31m \u001b[0mp_theta_given_m\u001b[0m \u001b[0;34m=\u001b[0m \u001b[0mp_m_given_theta\u001b[0m \u001b[0;34m*\u001b[0m \u001b[0mval_prior\u001b[0m\u001b[0;34m[\u001b[0m\u001b[0;34m:\u001b[0m\u001b[0;34m,\u001b[0m \u001b[0mnp\u001b[0m\u001b[0;34m.\u001b[0m\u001b[0mnewaxis\u001b[0m\u001b[0;34m]\u001b[0m\u001b[0;34m\u001b[0m\u001b[0;34m\u001b[0m\u001b[0m\n\u001b[0m",
      "\u001b[0;31mValueError\u001b[0m: operands could not be broadcast together with shapes (500,300) (100,1) "
     ]
    }
   ],
   "source": [
    "p_theta_given_m = p_m_given_theta * val_prior[:, np.newaxis]"
   ]
  },
  {
   "cell_type": "code",
   "execution_count": 24,
   "id": "bf162bee",
   "metadata": {},
   "outputs": [
    {
     "data": {
      "text/plain": [
       "(500, 300)"
      ]
     },
     "execution_count": 24,
     "metadata": {},
     "output_type": "execute_result"
    }
   ],
   "source": [
    "np.shape(p_m_given_theta)"
   ]
  },
  {
   "cell_type": "code",
   "execution_count": 25,
   "id": "69f28512",
   "metadata": {},
   "outputs": [
    {
     "ename": "TypeError",
     "evalue": "'numpy.ndarray' object is not callable",
     "output_type": "error",
     "traceback": [
      "\u001b[0;31m---------------------------------------------------------------------------\u001b[0m",
      "\u001b[0;31mTypeError\u001b[0m                                 Traceback (most recent call last)",
      "\u001b[0;32m/var/folders/fg/ps8b9dqs3b3cgp4jb85dxwfnsyv51d/T/ipykernel_18430/3897096197.py\u001b[0m in \u001b[0;36m<module>\u001b[0;34m\u001b[0m\n\u001b[0;32m----> 1\u001b[0;31m \u001b[0mval_prior\u001b[0m\u001b[0;34m(\u001b[0m\u001b[0mmodel\u001b[0m\u001b[0;34m.\u001b[0m\u001b[0mstim_grid\u001b[0m\u001b[0;34m,\u001b[0m \u001b[0mtype\u001b[0m\u001b[0;34m)\u001b[0m\u001b[0;31m#[:, np.newaxis]\u001b[0m\u001b[0;34m\u001b[0m\u001b[0;34m\u001b[0m\u001b[0m\n\u001b[0m",
      "\u001b[0;31mTypeError\u001b[0m: 'numpy.ndarray' object is not callable"
     ]
    }
   ],
   "source": [
    "val_prior(model.stim_grid, type)#[:, np.newaxis]"
   ]
  },
  {
   "cell_type": "code",
   "execution_count": 26,
   "id": "2f962164",
   "metadata": {},
   "outputs": [
    {
     "data": {
      "text/plain": [
       "(100,)"
      ]
     },
     "execution_count": 26,
     "metadata": {},
     "output_type": "execute_result"
    }
   ],
   "source": [
    "np.shape(val_prior)"
   ]
  },
  {
   "cell_type": "code",
   "execution_count": null,
   "id": "0ae75fc3",
   "metadata": {},
   "outputs": [],
   "source": []
  },
  {
   "cell_type": "code",
   "execution_count": null,
   "id": "17edbbce",
   "metadata": {},
   "outputs": [],
   "source": []
  },
  {
   "cell_type": "code",
   "execution_count": 27,
   "id": "ece523d3",
   "metadata": {},
   "outputs": [
    {
     "ename": "IndexError",
     "evalue": "too many indices for array: array is 1-dimensional, but 2 were indexed",
     "output_type": "error",
     "traceback": [
      "\u001b[0;31m---------------------------------------------------------------------------\u001b[0m",
      "\u001b[0;31mIndexError\u001b[0m                                Traceback (most recent call last)",
      "\u001b[0;32m/var/folders/fg/ps8b9dqs3b3cgp4jb85dxwfnsyv51d/T/ipykernel_18430/655700669.py\u001b[0m in \u001b[0;36m<module>\u001b[0;34m\u001b[0m\n\u001b[0;32m----> 1\u001b[0;31m \u001b[0mp_theta_given_m\u001b[0m \u001b[0;34m=\u001b[0m \u001b[0mp_m_given_theta\u001b[0m \u001b[0;34m*\u001b[0m \u001b[0mmodel\u001b[0m\u001b[0;34m.\u001b[0m\u001b[0mprior_val\u001b[0m\u001b[0;34m(\u001b[0m\u001b[0mmodel\u001b[0m\u001b[0;34m.\u001b[0m\u001b[0mstim_grid\u001b[0m\u001b[0;34m,\u001b[0m \u001b[0mtype\u001b[0m\u001b[0;34m)\u001b[0m\u001b[0;34m[\u001b[0m\u001b[0;36m1\u001b[0m\u001b[0;34m]\u001b[0m\u001b[0;34m[\u001b[0m\u001b[0;36m0\u001b[0m\u001b[0;34m,\u001b[0m\u001b[0;34m:\u001b[0m\u001b[0;34m]\u001b[0m\u001b[0;34m[\u001b[0m\u001b[0mnp\u001b[0m\u001b[0;34m.\u001b[0m\u001b[0mnewaxis\u001b[0m\u001b[0;34m,\u001b[0m\u001b[0;34m:\u001b[0m\u001b[0;34m]\u001b[0m\u001b[0;34m\u001b[0m\u001b[0;34m\u001b[0m\u001b[0m\n\u001b[0m",
      "\u001b[0;31mIndexError\u001b[0m: too many indices for array: array is 1-dimensional, but 2 were indexed"
     ]
    }
   ],
   "source": [
    "p_theta_given_m = p_m_given_theta * model.prior_val(model.stim_grid, type)[1][0,:][np.newaxis,:]"
   ]
  },
  {
   "cell_type": "code",
   "execution_count": null,
   "id": "fee7aba7",
   "metadata": {},
   "outputs": [],
   "source": []
  },
  {
   "cell_type": "code",
   "execution_count": 28,
   "id": "d356e011",
   "metadata": {},
   "outputs": [
    {
     "ename": "IndexError",
     "evalue": "too many indices for array: array is 1-dimensional, but 2 were indexed",
     "output_type": "error",
     "traceback": [
      "\u001b[0;31m---------------------------------------------------------------------------\u001b[0m",
      "\u001b[0;31mIndexError\u001b[0m                                Traceback (most recent call last)",
      "\u001b[0;32m/var/folders/fg/ps8b9dqs3b3cgp4jb85dxwfnsyv51d/T/ipykernel_18430/3637945368.py\u001b[0m in \u001b[0;36m<module>\u001b[0;34m\u001b[0m\n\u001b[0;32m----> 1\u001b[0;31m \u001b[0mnp\u001b[0m\u001b[0;34m.\u001b[0m\u001b[0mshape\u001b[0m\u001b[0;34m(\u001b[0m\u001b[0mmodel\u001b[0m\u001b[0;34m.\u001b[0m\u001b[0mprior_val\u001b[0m\u001b[0;34m(\u001b[0m\u001b[0mmodel\u001b[0m\u001b[0;34m.\u001b[0m\u001b[0mstim_grid\u001b[0m\u001b[0;34m,\u001b[0m \u001b[0mtype\u001b[0m\u001b[0;34m)\u001b[0m\u001b[0;34m[\u001b[0m\u001b[0;36m1\u001b[0m\u001b[0;34m]\u001b[0m\u001b[0;34m[\u001b[0m\u001b[0;36m0\u001b[0m\u001b[0;34m,\u001b[0m\u001b[0;34m:\u001b[0m\u001b[0;34m]\u001b[0m\u001b[0;34m)\u001b[0m\u001b[0;34m\u001b[0m\u001b[0;34m\u001b[0m\u001b[0m\n\u001b[0m",
      "\u001b[0;31mIndexError\u001b[0m: too many indices for array: array is 1-dimensional, but 2 were indexed"
     ]
    }
   ],
   "source": [
    "np.shape(model.prior_val(model.stim_grid, type)[1][0,:])"
   ]
  },
  {
   "cell_type": "code",
   "execution_count": null,
   "id": "540b416c",
   "metadata": {},
   "outputs": [],
   "source": []
  },
  {
   "cell_type": "code",
   "execution_count": null,
   "id": "5fe6defa",
   "metadata": {},
   "outputs": [],
   "source": []
  },
  {
   "cell_type": "code",
   "execution_count": null,
   "id": "66491f7b",
   "metadata": {},
   "outputs": [],
   "source": []
  }
 ],
 "metadata": {
  "kernelspec": {
   "display_name": "Python 3 (ipykernel)",
   "language": "python",
   "name": "python3"
  },
  "language_info": {
   "codemirror_mode": {
    "name": "ipython",
    "version": 3
   },
   "file_extension": ".py",
   "mimetype": "text/x-python",
   "name": "python",
   "nbconvert_exporter": "python",
   "pygments_lexer": "ipython3",
   "version": "3.8.5"
  }
 },
 "nbformat": 4,
 "nbformat_minor": 5
}
