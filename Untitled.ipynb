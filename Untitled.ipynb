{
 "cells": [
  {
   "cell_type": "code",
   "execution_count": 1,
   "id": "764ee71c",
   "metadata": {},
   "outputs": [],
   "source": [
    "from oldModel import OrientationWei, sensory_noise_dist, sensory_noise_dist_sample\n",
    "import matplotlib.pyplot as plt\n",
    "import seaborn as sns\n",
    "sns.set_context('talk')\n",
    "import imageio\n",
    "from scipy.integrate import simpson, trapezoid\n",
    "import numpy as np\n",
    "from scipy.interpolate import UnivariateSpline, interp1d\n",
    "from ipywidgets import interact\n",
    "from sklearn.neighbors import KernelDensity\n",
    "from scipy.stats import gaussian_kde\n",
    "\n",
    "import riskModelPercept as model"
   ]
  },
  {
   "cell_type": "code",
   "execution_count": 3,
   "id": "5db5cc20",
   "metadata": {},
   "outputs": [],
   "source": [
    "high_stim_noise = 0.011*1.99*np.pi\n",
    "low_stim_noise = 0.001*1.99*np.pi\n",
    "high_rep_noise = 0.011\n",
    "low_rep_noise = 0.001\n",
    "\n",
    "\n",
    "theta0 = 12*np.pi/180.0\n",
    "type = \"linearPrior\"\n",
    "n_bins = 100\n",
    "sigma_stim = low_stim_noise\n",
    "sigma_rep =  high_rep_noise\n",
    "\n",
    "bin_centers, ps = model.safe_value_dist(theta0, sigma_stim, sigma_rep , type, interpolation_kind='linear', n_bins=n_bins)"
   ]
  },
  {
   "cell_type": "code",
   "execution_count": 5,
   "id": "c7e12f78",
   "metadata": {},
   "outputs": [
    {
     "data": {
      "text/plain": [
       "[<matplotlib.lines.Line2D at 0x7fb68115adf0>]"
      ]
     },
     "execution_count": 5,
     "metadata": {},
     "output_type": "execute_result"
    },
    {
     "data": {
      "image/png": "[encoded data removed]",
      "text/plain": [
       "<Figure size 432x288 with 1 Axes>"
      ]
     },
     "metadata": {
      "needs_background": "light"
     },
     "output_type": "display_data"
    }
   ],
   "source": [
    "plt.plot(bin_centers, ps[0])"
   ]
  },
  {
   "cell_type": "code",
   "execution_count": 6,
   "id": "76597f7c",
   "metadata": {},
   "outputs": [
    {
     "data": {
      "text/plain": [
       "1.0"
      ]
     },
     "execution_count": 6,
     "metadata": {},
     "output_type": "execute_result"
    }
   ],
   "source": [
    "np.trapz(ps[0], bin_centers)"
   ]
  },
  {
   "cell_type": "code",
   "execution_count": null,
   "id": "2b79e962",
   "metadata": {},
   "outputs": [],
   "source": [
    "stim_grid = model.stim_grid\n",
    "sigma_stim, sigma_rep = 0.025, 0.025\n",
    "\n",
    "from riskModelPercept import bayesian_decoding, value_function_ori"
   ]
  },
  {
   "cell_type": "code",
   "execution_count": null,
   "id": "c1a43358",
   "metadata": {},
   "outputs": [],
   "source": [
    "type = 'linearPrior'\n",
    "\n",
    "theta0 = 0.0745*np.pi\n",
    "\n",
    "sigma_stim = 0.025\n",
    "sigma_rep = 0.01\n",
    "\n",
    "x_stim = np.array(stim_grid)\n",
    "p_stim = bayesian_decoding(theta0, sigma_stim, sigma_rep)\n",
    "\n",
    "x_value = value_function_ori(x_stim, type)\n",
    "\n",
    "\n",
    "ix = np.argsort(x_value)\n",
    "\n",
    "cum_p = np.cumsum(p_stim[:, ix], axis=1) / np.sum(p_stim, 1)\n",
    "\n",
    "plt.plot(x_value[ix], cum_p[0])"
   ]
  },
  {
   "cell_type": "code",
   "execution_count": null,
   "id": "a4a1f8c3",
   "metadata": {},
   "outputs": [],
   "source": [
    "unique_values = np.unique(x_value)\n",
    "p_value = np.zeros(len(unique_values))\n",
    "\n",
    "value_ix = np.digitize(x_value, unique_values, right=True)\n",
    "\n",
    "p_value = np.bincount(value_ix, weights=p_stim[0])\n",
    "\n",
    "p_value_cum = np.cumsum(p_value) / np.sum(p_value)"
   ]
  },
  {
   "cell_type": "code",
   "execution_count": null,
   "id": "015483bf",
   "metadata": {},
   "outputs": [],
   "source": [
    "plt.plot(unique_values, p_value_cum)"
   ]
  },
  {
   "cell_type": "code",
   "execution_count": null,
   "id": "a8179fd6",
   "metadata": {},
   "outputs": [],
   "source": [
    "from scipy.interpolate import CubicSpline\n",
    "\n",
    "spl = CubicSpline(unique_values, p_value_cum)\n",
    "\n",
    "\n",
    "x = np.linspace(2, 11, 100)\n",
    "\n",
    "# plt.plot(x, spl(x))\n",
    "\n",
    "# plt.plot(unique_values, p_value_cum, ma)\n",
    "\n",
    "plt.plot(x, spl.derivative(1)(x))"
   ]
  },
  {
   "cell_type": "code",
   "execution_count": null,
   "id": "357cf142",
   "metadata": {},
   "outputs": [],
   "source": [
    "h, edges = np.histogram(x_value, bins=25, weights=p_stim[0], density=True)\n",
    "\n",
    "bin_centers = (edges[1:] + edges[:-1]) / 2.\n",
    "\n",
    "cum_p = np.cumsum(h) / np.sum(h)\n",
    "\n",
    "plt.plot(bin_centers, cum_p)"
   ]
  },
  {
   "cell_type": "code",
   "execution_count": null,
   "id": "3a41315d",
   "metadata": {},
   "outputs": [],
   "source": [
    "from scipy.interpolate import CubicSpline\n",
    "\n",
    "spl = CubicSpline(bin_centers, cum_p)\n",
    "\n",
    "x_value[ix], cum_p[0]\n",
    "x = np.linspace(1, 12, 1000)\n",
    "plt.plot(x, spl(x))\n",
    "\n",
    "plt.plot(bin_centers, cum_p, marker='x', c='k')\n",
    "\n"
   ]
  },
  {
   "cell_type": "code",
   "execution_count": null,
   "id": "5e0bbf15",
   "metadata": {},
   "outputs": [],
   "source": [
    "plt.plot(x, spl.derivative()(x))"
   ]
  },
  {
   "cell_type": "code",
   "execution_count": null,
   "id": "958745f8",
   "metadata": {},
   "outputs": [],
   "source": [
    "from numpy.polynomial import Hermite"
   ]
  },
  {
   "cell_type": "code",
   "execution_count": null,
   "id": "7d9fe80f",
   "metadata": {},
   "outputs": [],
   "source": [
    "deg = 30\n",
    "p = Hermite.fit(x_value[ix], cum_p[0], deg=deg, domain=[1, 12], window=[1.5, 11.5])\n",
    "\n",
    "plt.plot(x_value[ix], p(x_value[ix]))\n",
    "\n",
    "plt.plot(x_value[ix], cum_p[0], marker='o', alpha=.01, color='k')"
   ]
  },
  {
   "cell_type": "code",
   "execution_count": null,
   "id": "72ca7813",
   "metadata": {},
   "outputs": [],
   "source": [
    "plt.plot(x_value, p.deriv(1)(x_value))"
   ]
  },
  {
   "cell_type": "code",
   "execution_count": null,
   "id": "b26b038d",
   "metadata": {},
   "outputs": [],
   "source": [
    "from scipy.interpolate import PchipInterpolator\n",
    "\n",
    "spl = PchipInterpolator(x_value[ix], cum_p[0])\n",
    "\n",
    "\n",
    "# plt.plot(x_value[ix], spl(x_value[ix]))"
   ]
  }
 ],
 "metadata": {
  "kernelspec": {
   "display_name": "Python 3 (ipykernel)",
   "language": "python",
   "name": "python3"
  },
  "language_info": {
   "codemirror_mode": {
    "name": "ipython",
    "version": 3
   },
   "file_extension": ".py",
   "mimetype": "text/x-python",
   "name": "python",
   "nbconvert_exporter": "python",
   "pygments_lexer": "ipython3",
   "version": "3.8.5"
  }
 },
 "nbformat": 4,
 "nbformat_minor": 5
}
