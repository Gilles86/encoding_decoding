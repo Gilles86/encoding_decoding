{
 "cells": [
  {
   "cell_type": "code",
   "execution_count": 31,
   "metadata": {},
   "outputs": [],
   "source": [
    "from model import OrientationWei, sensory_noise_dist, sensory_noise_dist_sample\n",
    "import matplotlib.pyplot as plt\n",
    "import seaborn as sns\n",
    "from scipy.integrate import simpson, trapezoid\n",
    "import numpy as np\n",
    "from scipy.interpolate import UnivariateSpline, interp1d"
   ]
  },
  {
   "cell_type": "code",
   "execution_count": 32,
   "metadata": {},
   "outputs": [],
   "source": [
    "model = OrientationWei()"
   ]
  },
  {
   "cell_type": "markdown",
   "metadata": {},
   "source": [
    "We start with some $\\theta_0$ for which we want to estimate a _distribution_ of estimates of the subject $\\hat{\\theta}$: \n",
    "\n",
    "$p(\\hat{\\theta}|\\theta_0)$"
   ]
  },
  {
   "cell_type": "code",
   "execution_count": 33,
   "metadata": {},
   "outputs": [],
   "source": [
    "theta0 = .2*np.pi\n",
    "theta0_ = model.stim2rep(theta0)"
   ]
  },
  {
   "cell_type": "markdown",
   "metadata": {},
   "source": [
    "We also have a noise term $\\sigma$ that steers the noisiness of the likelihood in sensory sapce"
   ]
  },
  {
   "cell_type": "code",
   "execution_count": 35,
   "metadata": {},
   "outputs": [],
   "source": [
    "sigma_rep = 0.05"
   ]
  },
  {
   "cell_type": "markdown",
   "metadata": {},
   "source": [
    "First, we estimate how likely different sensory measurements $m$ are for the given $\\theta_0$"
   ]
  },
  {
   "cell_type": "code",
   "execution_count": 36,
   "metadata": {},
   "outputs": [],
   "source": [
    "pm = sensory_noise_dist(theta0_, sigma_rep, model.rep_grid)"
   ]
  },
  {
   "cell_type": "markdown",
   "metadata": {},
   "source": [
    "Our strategy is now as follows: for each m that we have in our grid, we are going to calculate what the subject's best estimate of $\\theta$, is, namely the expected value $E[\\theta]$, or $\\hat{\\theta}$ (Equation 11 in Wei & Stocker)."
   ]
  },
  {
   "cell_type": "code",
   "execution_count": 37,
   "metadata": {},
   "outputs": [],
   "source": [
    "theta_est_ = model.subject_estimate_theta(model.rep_grid, sigma_rep=sigma_rep)"
   ]
  },
  {
   "cell_type": "markdown",
   "metadata": {},
   "source": [
    "Now, we have a distribution of $m$ s, as well as their corresponding estimates. This lookup-table is basically a _transfer function_ $f(m) -> \\theta$, that transfers measurements $m$ to the stimulus space $\\theta$. It also provides the _inverse transfer function $f^{-1}(\\hat{\\theta}) -> m$\n",
    "\n"
   ]
  },
  {
   "cell_type": "code",
   "execution_count": 10,
   "metadata": {},
   "outputs": [],
   "source": [
    "theta_est = interp1d(model.rep_grid, theta_est_, fill_value='extrapolate', bounds_error=False)\n",
    "theta_est_inv = interp1d(theta_est_.squeeze(), model.rep_grid, fill_value='extrapolate', bounds_error=False)"
   ]
  },
  {
   "cell_type": "markdown",
   "metadata": {},
   "source": [
    "Also, since $m$ is a _random variable_ we have to use the gradient of that transfer function $f'(m)$ to correct for contractions and expansions of the probability density. We can just estimate that as a lookup-table as well"
   ]
  },
  {
   "cell_type": "code",
   "execution_count": 11,
   "metadata": {},
   "outputs": [],
   "source": [
    "theta_est_dx_ = np.gradient(theta_est_.squeeze(), model.rep_grid)\n",
    "theta_est_dx = interp1d(model.rep_grid, theta_est_dx_, fill_value='extrapolate', bounds_error=False)"
   ]
  },
  {
   "cell_type": "markdown",
   "metadata": {},
   "source": [
    "To get the density function of $p(\\theta)$, we now just have to do\n",
    "\n",
    "$p(\\hat{\\theta}|\\theta_0) =  f(p(m|\\theta_0)) = \\frac{p(f^{-1}(\\hat{\\theta})|\\theta_0)}{f'(f^{-1}(\\hat{\\theta}))}$"
   ]
  },
  {
   "cell_type": "code",
   "execution_count": 15,
   "metadata": {},
   "outputs": [],
   "source": [
    "# This grid of ms corresponds to possible theta-hats in the grid model.stim_grid\n",
    "m_grid = theta_est_inv(model.stim_grid)\n",
    "\n",
    "pm = sensory_noise_dist(theta0_, sigma_rep, m_grid)\n",
    "ptheta = pm/theta_est_dx(m_grid)"
   ]
  },
  {
   "cell_type": "code",
   "execution_count": 16,
   "metadata": {},
   "outputs": [
    {
     "data": {
      "text/plain": [
       "<matplotlib.lines.Line2D at 0x7fada89ba880>"
      ]
     },
     "execution_count": 16,
     "metadata": {},
     "output_type": "execute_result"
    },
    {
     "data": {
      "image/png": "[encoded data removed]",
      "text/plain": [
       "<Figure size 432x288 with 1 Axes>"
      ]
     },
     "metadata": {
      "needs_background": "light"
     },
     "output_type": "display_data"
    }
   ],
   "source": [
    "plt.plot(model.stim_grid, ptheta, color='k')\n",
    "sns.despine()\n",
    "plt.axvline(theta0, c='k', ls='--')"
   ]
  },
  {
   "cell_type": "code",
   "execution_count": 17,
   "metadata": {},
   "outputs": [
    {
     "data": {
      "text/plain": [
       "0.9989934702978455"
      ]
     },
     "execution_count": 17,
     "metadata": {},
     "output_type": "execute_result"
    }
   ],
   "source": [
    "trapezoid(ptheta, model.stim_grid)"
   ]
  },
  {
   "cell_type": "markdown",
   "metadata": {},
   "source": [
    "To check whether this all makes sense, we are going to simulate a bunch of $m$ s and estimate their corresponding $\\hat{\\theta}$ s (blue), and overlay the estimated density function (orange)"
   ]
  },
  {
   "cell_type": "code",
   "execution_count": 19,
   "metadata": {},
   "outputs": [
    {
     "data": {
      "text/plain": [
       "[<matplotlib.lines.Line2D at 0x7fadd913a310>]"
      ]
     },
     "execution_count": 19,
     "metadata": {},
     "output_type": "execute_result"
    },
    {
     "data": {
      "image/png": "[encoded data removed]",
      "text/plain": [
       "<Figure size 432x288 with 1 Axes>"
      ]
     },
     "metadata": {
      "needs_background": "light"
     },
     "output_type": "display_data"
    }
   ],
   "source": [
    "# For a given theta0, gets converted it to sensory space and then can have different posssible sensory representation coming from vonmises\n",
    "samples_m = sensory_noise_dist_sample(theta0_, sigma_rep, 50000)\n",
    "\n",
    "# Subject estimates a given posterior estimate for each m from this vonmises\n",
    "estimates = model.subject_estimate_theta(np.array(samples_m), sigma_rep)\n",
    "\n",
    "sns.histplot(estimates.squeeze(), stat='density', bins=150)\n",
    "plt.plot(model.stim_grid, ptheta, color='orange')"
   ]
  },
  {
   "cell_type": "code",
   "execution_count": 20,
   "metadata": {},
   "outputs": [],
   "source": [
    "from ipywidgets import interact"
   ]
  },
  {
   "cell_type": "code",
   "execution_count": 23,
   "metadata": {},
   "outputs": [
    {
     "data": {
      "application/vnd.jupyter.widget-view+json": {
       "model_id": "d2c9fa6f01584cb080feb797bd80bc15",
       "version_major": 2,
       "version_minor": 0
      },
      "text/plain": [
       "interactive(children=(FloatSlider(value=3.141592653589793, description='theta0', max=6.283185307179586), Float…"
      ]
     },
     "metadata": {},
     "output_type": "display_data"
    },
    {
     "data": {
      "text/plain": [
       "<function __main__.plot_estimate_distribution(theta0, sigma_rep, simulation=True)>"
      ]
     },
     "execution_count": 23,
     "metadata": {},
     "output_type": "execute_result"
    }
   ],
   "source": [
    "def plot_estimate_distribution(theta0, sigma_rep, simulation=True):\n",
    "    theta0_ = model.stim2rep(theta0)\n",
    "    pm = sensory_noise_dist(theta0_, sigma_rep, model.rep_grid)\n",
    "    theta_est_ = model.subject_estimate_theta(model.rep_grid, sigma_rep=sigma_rep)\n",
    "\n",
    "    theta_est = interp1d(model.rep_grid, theta_est_, fill_value='extrapolate', bounds_error=False)\n",
    "    theta_est_inv = interp1d(theta_est_.squeeze(), model.rep_grid, fill_value='extrapolate', bounds_error=False)\n",
    "\n",
    "    theta_est_dx_ = np.gradient(theta_est_.squeeze(), model.rep_grid)\n",
    "    theta_est_dx = interp1d(model.rep_grid, theta_est_dx_, fill_value='extrapolate', bounds_error=False)\n",
    "    \n",
    "    m_grid = theta_est_inv(model.stim_grid)\n",
    "\n",
    "    pm = sensory_noise_dist(theta0_, sigma_rep, m_grid)\n",
    "    ptheta = pm/theta_est_dx(m_grid)\n",
    "\n",
    "\n",
    "    if simulation:\n",
    "        samples_m = sensory_noise_dist_sample(theta0_, sigma_rep, 10000)\n",
    "\n",
    "        # Subject estimates a given posterior estimate for each m from this vonmises\n",
    "        estimates = model.subject_estimate_theta(np.array(samples_m), sigma_rep)\n",
    "\n",
    "        sns.histplot(estimates.squeeze(), stat='density', bins=50)\n",
    "\n",
    "    plt.plot(model.stim_grid, ptheta, color='orange')\n",
    "    sns.despine()\n",
    "    plt.axvline(theta0, c='orange', ls='--')\n",
    "    plt.text(4, np.max(ptheta) *1.1, f'Integral: {trapezoid(ptheta, model.stim_grid):0.3f}')\n",
    "\n",
    "interact(plot_estimate_distribution, theta0=(0, np.pi*2.), sigma_rep=(0.01, 1, .01),\n",
    "simulation=(False, True))\n"
   ]
  },
  {
   "cell_type": "code",
   "execution_count": 30,
   "metadata": {},
   "outputs": [
    {
     "data": {
      "text/plain": [
       "[<matplotlib.lines.Line2D at 0x7fadc9be5940>]"
      ]
     },
     "execution_count": 30,
     "metadata": {},
     "output_type": "execute_result"
    },
    {
     "data": {
      "image/png": "[encoded data removed]",
      "text/plain": [
       "<Figure size 432x288 with 1 Axes>"
      ]
     },
     "metadata": {
      "needs_background": "light"
     },
     "output_type": "display_data"
    }
   ],
   "source": [
    "plt.plot(model.theta_hat_dist(2.6, 0.08).squeeze())"
   ]
  },
  {
   "cell_type": "code",
   "execution_count": null,
   "metadata": {},
   "outputs": [],
   "source": []
  }
 ],
 "metadata": {
  "kernelspec": {
   "display_name": "Python 3 (ipykernel)",
   "language": "python",
   "name": "python3"
  },
  "language_info": {
   "codemirror_mode": {
    "name": "ipython",
    "version": 3
   },
   "file_extension": ".py",
   "mimetype": "text/x-python",
   "name": "python",
   "nbconvert_exporter": "python",
   "pygments_lexer": "ipython3",
   "version": "3.8.5"
  },
  "vscode": {
   "interpreter": {
    "hash": "a128080c8c39cf33963eaaa0fee95f5610fd25c7c34c91613760903d9a2a0b15"
   }
  }
 },
 "nbformat": 4,
 "nbformat_minor": 2
}
