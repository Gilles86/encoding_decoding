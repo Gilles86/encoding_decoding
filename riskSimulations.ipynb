{
 "cells": [
  {
   "cell_type": "code",
   "execution_count": 1,
   "id": "a92e8253",
   "metadata": {},
   "outputs": [],
   "source": [
    "from oldModel import OrientationWei, sensory_noise_dist, sensory_noise_dist_sample\n",
    "import matplotlib.pyplot as plt\n",
    "import seaborn as sns\n",
    "from scipy.integrate import simpson, trapezoid\n",
    "import numpy as np\n",
    "from scipy.interpolate import UnivariateSpline, interp1d"
   ]
  },
  {
   "cell_type": "code",
   "execution_count": 2,
   "id": "218b2812",
   "metadata": {},
   "outputs": [],
   "source": [
    "import riskModel as model"
   ]
  },
  {
   "cell_type": "code",
   "execution_count": 3,
   "id": "a75eadfb",
   "metadata": {},
   "outputs": [],
   "source": [
    "theta0 = np.linspace(0.001, 1.99*np.pi, 100)"
   ]
  },
  {
   "cell_type": "code",
   "execution_count": 4,
   "id": "49c5d2d1",
   "metadata": {},
   "outputs": [
    {
     "ename": "AttributeError",
     "evalue": "module 'riskModel' has no attribute 'get_thetahat_dist'",
     "output_type": "error",
     "traceback": [
      "\u001b[0;31m---------------------------------------------------------------------------\u001b[0m",
      "\u001b[0;31mAttributeError\u001b[0m                            Traceback (most recent call last)",
      "\u001b[0;32m/var/folders/fg/ps8b9dqs3b3cgp4jb85dxwfnsyv51d/T/ipykernel_29335/1555761128.py\u001b[0m in \u001b[0;36m<module>\u001b[0;34m\u001b[0m\n\u001b[0;32m----> 1\u001b[0;31m \u001b[0mplt\u001b[0m\u001b[0;34m.\u001b[0m\u001b[0mplot\u001b[0m\u001b[0;34m(\u001b[0m\u001b[0;34m(\u001b[0m\u001b[0mmodel\u001b[0m\u001b[0;34m.\u001b[0m\u001b[0mget_thetahat_dist\u001b[0m\u001b[0;34m(\u001b[0m\u001b[0mtheta0\u001b[0m \u001b[0;34m,\u001b[0m\u001b[0msigma_stim\u001b[0m \u001b[0;34m=\u001b[0m \u001b[0;36m0.05\u001b[0m\u001b[0;34m*\u001b[0m\u001b[0mnp\u001b[0m\u001b[0;34m.\u001b[0m\u001b[0mpi\u001b[0m\u001b[0;34m,\u001b[0m \u001b[0msigma_rep\u001b[0m \u001b[0;34m=\u001b[0m \u001b[0;36m0.05\u001b[0m\u001b[0;34m)\u001b[0m\u001b[0;34m)\u001b[0m\u001b[0;34m[\u001b[0m\u001b[0;36m0\u001b[0m\u001b[0;34m,\u001b[0m \u001b[0;34m...\u001b[0m\u001b[0;34m]\u001b[0m\u001b[0;34m)\u001b[0m\u001b[0;34m\u001b[0m\u001b[0;34m\u001b[0m\u001b[0m\n\u001b[0m\u001b[1;32m      2\u001b[0m \u001b[0mplt\u001b[0m\u001b[0;34m.\u001b[0m\u001b[0mplot\u001b[0m\u001b[0;34m(\u001b[0m\u001b[0;34m(\u001b[0m\u001b[0mmodel\u001b[0m\u001b[0;34m.\u001b[0m\u001b[0mget_thetahat_dist\u001b[0m\u001b[0;34m(\u001b[0m\u001b[0mtheta0\u001b[0m \u001b[0;34m,\u001b[0m\u001b[0msigma_stim\u001b[0m \u001b[0;34m=\u001b[0m \u001b[0;36m0.05\u001b[0m\u001b[0;34m*\u001b[0m\u001b[0mnp\u001b[0m\u001b[0;34m.\u001b[0m\u001b[0mpi\u001b[0m\u001b[0;34m,\u001b[0m \u001b[0msigma_rep\u001b[0m \u001b[0;34m=\u001b[0m \u001b[0;36m0.05\u001b[0m\u001b[0;34m)\u001b[0m\u001b[0;34m)\u001b[0m\u001b[0;34m[\u001b[0m\u001b[0;36m50\u001b[0m\u001b[0;34m,\u001b[0m \u001b[0;34m...\u001b[0m\u001b[0;34m]\u001b[0m\u001b[0;34m)\u001b[0m\u001b[0;34m\u001b[0m\u001b[0;34m\u001b[0m\u001b[0m\n\u001b[1;32m      3\u001b[0m \u001b[0mplt\u001b[0m\u001b[0;34m.\u001b[0m\u001b[0mplot\u001b[0m\u001b[0;34m(\u001b[0m\u001b[0;34m(\u001b[0m\u001b[0mmodel\u001b[0m\u001b[0;34m.\u001b[0m\u001b[0mget_thetahat_dist\u001b[0m\u001b[0;34m(\u001b[0m\u001b[0mtheta0\u001b[0m \u001b[0;34m,\u001b[0m\u001b[0msigma_stim\u001b[0m \u001b[0;34m=\u001b[0m \u001b[0;36m0.05\u001b[0m\u001b[0;34m*\u001b[0m\u001b[0mnp\u001b[0m\u001b[0;34m.\u001b[0m\u001b[0mpi\u001b[0m\u001b[0;34m,\u001b[0m \u001b[0msigma_rep\u001b[0m \u001b[0;34m=\u001b[0m \u001b[0;36m0.05\u001b[0m\u001b[0;34m)\u001b[0m\u001b[0;34m)\u001b[0m\u001b[0;34m[\u001b[0m\u001b[0;36m99\u001b[0m\u001b[0;34m,\u001b[0m \u001b[0;34m...\u001b[0m\u001b[0;34m]\u001b[0m\u001b[0;34m)\u001b[0m\u001b[0;34m\u001b[0m\u001b[0;34m\u001b[0m\u001b[0m\n",
      "\u001b[0;31mAttributeError\u001b[0m: module 'riskModel' has no attribute 'get_thetahat_dist'"
     ]
    }
   ],
   "source": [
    "plt.plot((model.bayesian(theta0 ,sigma_stim = 0.05*np.pi, sigma_rep = 0.05))[0, ...])\n",
    "plt.plot((model.get_thetahat_dist(theta0 ,sigma_stim = 0.05*np.pi, sigma_rep = 0.05))[50, ...])\n",
    "plt.plot((model.get_thetahat_dist(theta0 ,sigma_stim = 0.05*np.pi, sigma_rep = 0.05))[99, ...])"
   ]
  },
  {
   "cell_type": "code",
   "execution_count": null,
   "id": "f84e63ea",
   "metadata": {},
   "outputs": [],
   "source": [
    "E_theta_given_theta0 = model.expected_thetahat_theta0(theta0, 0.5, 0.01)\n",
    "plt.plot(theta0, theta0 - E_theta_given_theta0)\n",
    "\n",
    "E_theta_given_theta0 = model.expected_thetahat_theta0(theta0, 0.01, 0.05)\n",
    "plt.plot(theta0, theta0 - E_theta_given_theta0)\n",
    "plt.axvline(np.pi, c='k')\n",
    "plt.axvline(0.5*np.pi, c='k')\n",
    "\n",
    "\n",
    "E_theta_given_theta0 = model.expected_thetahat_theta0(theta0, 0.75, 0.05)\n",
    "plt.plot(theta0, theta0 - E_theta_given_theta0)\n",
    "plt.axvline(np.pi, c='k')"
   ]
  },
  {
   "cell_type": "code",
   "execution_count": null,
   "id": "3ead1ac9",
   "metadata": {},
   "outputs": [],
   "source": [
    "sigma_stim = 0.02*np.pi\n",
    "sigma_rep = 0.01"
   ]
  },
  {
   "cell_type": "code",
   "execution_count": null,
   "id": "c6c8cf3d",
   "metadata": {},
   "outputs": [],
   "source": [
    "plt.plot((model.get_thetahat_dist(theta0 ,sigma_stim, sigma_rep))[0, ...])"
   ]
  },
  {
   "cell_type": "code",
   "execution_count": null,
   "id": "7a92f7bc",
   "metadata": {},
   "outputs": [],
   "source": [
    "safe_value, safe_prob = model.safe_value_dist(0.1*np.pi, sigma_stim, sigma_rep , type = \"prior\", bins=1000)"
   ]
  },
  {
   "cell_type": "code",
   "execution_count": null,
   "id": "d3449dc4",
   "metadata": {},
   "outputs": [],
   "source": [
    "plt.plot(safe_value,safe_prob[0,:])"
   ]
  },
  {
   "cell_type": "code",
   "execution_count": null,
   "id": "4010c8c9",
   "metadata": {},
   "outputs": [],
   "source": [
    "risky_value, risky_prob = model.risky_value_dist(0.5*np.pi, sigma_stim, sigma_rep , risk_prob = 0.6, type = \"prior\", bins=1000) "
   ]
  },
  {
   "cell_type": "code",
   "execution_count": null,
   "id": "89c117ab",
   "metadata": {},
   "outputs": [],
   "source": [
    "plt.plot(risky_value,risky_prob[0,:])"
   ]
  },
  {
   "cell_type": "code",
   "execution_count": null,
   "id": "3120c200",
   "metadata": {},
   "outputs": [],
   "source": [
    "model.diff_dist(safe_value, safe_prob, risky_prob)"
   ]
  },
  {
   "cell_type": "code",
   "execution_count": null,
   "id": "ab4d0971",
   "metadata": {},
   "outputs": [],
   "source": []
  }
 ],
 "metadata": {
  "kernelspec": {
   "display_name": "Python 3 (ipykernel)",
   "language": "python",
   "name": "python3"
  },
  "language_info": {
   "codemirror_mode": {
    "name": "ipython",
    "version": 3
   },
   "file_extension": ".py",
   "mimetype": "text/x-python",
   "name": "python",
   "nbconvert_exporter": "python",
   "pygments_lexer": "ipython3",
   "version": "3.8.5"
  }
 },
 "nbformat": 4,
 "nbformat_minor": 5
}
