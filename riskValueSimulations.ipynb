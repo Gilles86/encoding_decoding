{
 "cells": [
  {
   "cell_type": "code",
   "execution_count": 1,
   "id": "c9f878fe",
   "metadata": {},
   "outputs": [],
   "source": [
    "from oldModel import OrientationWei, sensory_noise_dist, sensory_noise_dist_sample\n",
    "import matplotlib.pyplot as plt\n",
    "import seaborn as sns\n",
    "sns.set_context('talk')\n",
    "from scipy.integrate import simpson, trapezoid\n",
    "import numpy as np\n",
    "from scipy.interpolate import UnivariateSpline, interp1d\n",
    "from ipywidgets import interact\n",
    "from scipy import integrate\n",
    "import scipy.stats as ss"
   ]
  },
  {
   "cell_type": "code",
   "execution_count": 2,
   "id": "5efe707a",
   "metadata": {},
   "outputs": [],
   "source": [
    "import riskModelValuation as model"
   ]
  },
  {
   "cell_type": "code",
   "execution_count": 3,
   "id": "eab2c776",
   "metadata": {},
   "outputs": [
    {
     "data": {
      "image/png": "[encoded data removed]",
      "text/plain": [
       "<Figure size 432x288 with 1 Axes>"
      ]
     },
     "metadata": {
      "needs_background": "light"
     },
     "output_type": "display_data"
    }
   ],
   "source": [
    "plt.plot(model.ori_to_val_dist(model.stim_grid, model.prior_ori(model.stim_grid), type = \"prior\")[0], model.ori_to_val_dist(model.stim_grid, model.prior_ori(model.stim_grid), type = \"linearPrior\")[1])\n",
    "plt.savefig('/Users/sbedi/Downloads/testfig.png',dpi=300, bbox_inches = \"tight\")\n"
   ]
  },
  {
   "cell_type": "code",
   "execution_count": 4,
   "id": "1cb66372",
   "metadata": {},
   "outputs": [],
   "source": [
    "theta0 = 0.01*np.pi#np.linspace(0.001, 0.25*np.pi, 3)"
   ]
  },
  {
   "cell_type": "code",
   "execution_count": 5,
   "id": "5dfa180b",
   "metadata": {},
   "outputs": [],
   "source": [
    "val_noise = model.stimulus_val_noise(x = theta0, sd = 0.005*np.pi, grid = model.stim_grid, type = \"linearPrior\")"
   ]
  },
  {
   "cell_type": "code",
   "execution_count": 6,
   "id": "a70c462a",
   "metadata": {},
   "outputs": [
    {
     "data": {
      "text/plain": [
       "(1000, 300)"
      ]
     },
     "execution_count": 6,
     "metadata": {},
     "output_type": "execute_result"
    },
    {
     "data": {
      "image/png": "[encoded data removed]",
      "text/plain": [
       "<Figure size 432x288 with 1 Axes>"
      ]
     },
     "metadata": {
      "needs_background": "light"
     },
     "output_type": "display_data"
    }
   ],
   "source": [
    "sigma_stim = 0.01\n",
    "sigma_rep = 0.01\n",
    "sd = 0.001\n",
    "    \n",
    "p_m_given_val0, p_m_given_val = model.value_efficient_encoding(theta0, sigma_stim, sigma_rep, type = \"prior\")\n",
    "plt.plot(model.rep_grid,p_m_given_val0[0,:])\n",
    "np.shape(p_m_given_val)"
   ]
  },
  {
   "cell_type": "code",
   "execution_count": 7,
   "id": "8ae004f4",
   "metadata": {},
   "outputs": [
    {
     "data": {
      "text/plain": [
       "'bothSideTruncated'"
      ]
     },
     "execution_count": 7,
     "metadata": {},
     "output_type": "execute_result"
    }
   ],
   "source": [
    "model.experiment"
   ]
  },
  {
   "cell_type": "code",
   "execution_count": 8,
   "id": "b5befb3f",
   "metadata": {},
   "outputs": [
    {
     "data": {
      "text/plain": [
       "(929,)"
      ]
     },
     "execution_count": 8,
     "metadata": {},
     "output_type": "execute_result"
    }
   ],
   "source": [
    "np.shape(np.unique(model.value_function_ori(model.stim_grid, \"linearPrior\")))"
   ]
  },
  {
   "cell_type": "code",
   "execution_count": 9,
   "id": "267399bf",
   "metadata": {},
   "outputs": [],
   "source": [
    "val_grid = model.value_function_ori(model.stim_grid, type=\"linearPrior\")\n",
    "val_centers, val_prior = model.prior_val(model.stim_grid, type=\"linearPrior\")\n",
    "p_m_given_val0, p_m_given_val = model.value_efficient_encoding(theta0, sigma_stim, sigma_rep, type=\"linearPrior\")\n",
    "p_val_given_m = p_m_given_val * val_prior[:, np.newaxis]"
   ]
  },
  {
   "cell_type": "code",
   "execution_count": 10,
   "id": "a14dba25",
   "metadata": {},
   "outputs": [],
   "source": [
    "theta0 = 0.28*np.pi#np.linspace(0.001, 0.25*np.pi, 3)"
   ]
  },
  {
   "cell_type": "code",
   "execution_count": 11,
   "id": "edb80103",
   "metadata": {},
   "outputs": [],
   "source": [
    "val_centers, p_value_est_given_val0  = model.value_bayesian_decoding(theta0, sigma_stim, sigma_rep, type=\"linearPrior\")"
   ]
  },
  {
   "cell_type": "code",
   "execution_count": 12,
   "id": "509aa526",
   "metadata": {},
   "outputs": [
    {
     "data": {
      "text/plain": [
       "[<matplotlib.lines.Line2D at 0x7f98c10c3280>]"
      ]
     },
     "execution_count": 12,
     "metadata": {},
     "output_type": "execute_result"
    },
    {
     "data": {
      "image/png": "[encoded data removed]",
      "text/plain": [
       "<Figure size 432x288 with 1 Axes>"
      ]
     },
     "metadata": {
      "needs_background": "light"
     },
     "output_type": "display_data"
    }
   ],
   "source": [
    "plt.plot(val_centers, p_value_est_given_val0)"
   ]
  },
  {
   "cell_type": "code",
   "execution_count": 13,
   "id": "4320081f",
   "metadata": {},
   "outputs": [
    {
     "data": {
      "text/plain": [
       "(1000,)"
      ]
     },
     "execution_count": 13,
     "metadata": {},
     "output_type": "execute_result"
    }
   ],
   "source": [
    "rangeOri = np.linspace(48./180., 52./180., 5)*np.pi\n",
    "safe_value, safe_prob = model.value_bayesian_decoding(rangeOri[0], sigma_stim, sigma_rep , type=\"linearPrior\")\n",
    "risky_value, risky_prob = model.risky_value_dist((rangeOri), sigma_stim, sigma_stim , risk_prob=0.75, type=\"linearPrior\") \n",
    "#     p_chose_risky = model.diff_dist(safe_value, safe_prob, risky_prob)\n",
    "# p_chose_risky = model.diff_dist(safe_value, risky_prob, safe_prob)\n",
    "np.shape(safe_value)"
   ]
  },
  {
   "cell_type": "code",
   "execution_count": 14,
   "id": "cd735786",
   "metadata": {},
   "outputs": [
    {
     "data": {
      "text/plain": [
       "[<matplotlib.lines.Line2D at 0x7f98b104f160>]"
      ]
     },
     "execution_count": 14,
     "metadata": {},
     "output_type": "execute_result"
    },
    {
     "data": {
      "image/png": "[encoded data removed]",
      "text/plain": [
       "<Figure size 432x288 with 1 Axes>"
      ]
     },
     "metadata": {
      "needs_background": "light"
     },
     "output_type": "display_data"
    }
   ],
   "source": [
    "plt.plot(safe_prob)\n",
    "plt.plot(risky_prob[4,:])"
   ]
  },
  {
   "cell_type": "code",
   "execution_count": 15,
   "id": "3805ca0f",
   "metadata": {},
   "outputs": [
    {
     "data": {
      "text/plain": [
       "(5, 1000)"
      ]
     },
     "execution_count": 15,
     "metadata": {},
     "output_type": "execute_result"
    }
   ],
   "source": [
    "cdf2 = integrate.cumtrapz(safe_prob, safe_value, initial=0.0, axis=0)\n",
    "np.shape(risky_prob)\n",
    "# np.shape(cdf2)\n",
    "# np.shape(risky_prob*cdf2)"
   ]
  },
  {
   "cell_type": "code",
   "execution_count": 16,
   "id": "128b3742",
   "metadata": {},
   "outputs": [
    {
     "data": {
      "text/plain": [
       "array([0.12105959, 0.24952842, 0.42628538, 0.61948198, 0.78651048])"
      ]
     },
     "execution_count": 16,
     "metadata": {},
     "output_type": "execute_result"
    }
   ],
   "source": [
    "prob = risky_prob*cdf2\n",
    "# p.append(prob)\n",
    "integrate.trapz(prob, safe_value)"
   ]
  },
  {
   "cell_type": "code",
   "execution_count": 17,
   "id": "303b2d27",
   "metadata": {},
   "outputs": [
    {
     "data": {
      "text/plain": [
       "array([[0.12105959, 0.24952842, 0.42628538, 0.61948198, 0.78651048]])"
      ]
     },
     "execution_count": 17,
     "metadata": {},
     "output_type": "execute_result"
    }
   ],
   "source": [
    "model.diff_dist(safe_value, risky_prob, safe_prob)"
   ]
  },
  {
   "cell_type": "code",
   "execution_count": null,
   "id": "7730f896",
   "metadata": {},
   "outputs": [],
   "source": []
  },
  {
   "cell_type": "markdown",
   "id": "01e18ac3",
   "metadata": {},
   "source": [
    "# linear prior"
   ]
  },
  {
   "cell_type": "code",
   "execution_count": 18,
   "id": "ae036d18",
   "metadata": {},
   "outputs": [],
   "source": [
    "\n",
    "high_stim_noise = 0.014*1.99*np.pi\n",
    "low_stim_noise = 0.001*1.99*np.pi\n",
    "high_rep_noise = 0.014\n",
    "low_rep_noise = 0.001\n",
    "\n"
   ]
  },
  {
   "cell_type": "code",
   "execution_count": 21,
   "id": "7c4bec76",
   "metadata": {},
   "outputs": [],
   "source": [
    "def plot_riskAttitudes(sigma_stim, sigma_rep):\n",
    "    risk_prob = 0.75\n",
    "    type = \"linearPrior\"   \n",
    "    \n",
    "    risky_rep = 1.0*sigma_rep\n",
    "\n",
    "    # Getting all the values from actual transformation\n",
    "    rangeOri = np.linspace(22.5/180., 13/180., 11)*np.pi\n",
    "    val_range = model.value_function_ori(rangeOri, type)\n",
    "    safeVal = val_range[0]\n",
    "    riskyVal_range = risk_prob*model.value_function_ori(rangeOri, type)\n",
    "    \n",
    "    # getting inferred values\n",
    "    safe_value, safe_prob = model.value_bayesian_decoding(rangeOri[0], sigma_stim, sigma_rep , type)\n",
    "    risky_value, risky_prob = model.risky_value_dist((rangeOri), sigma_stim, risky_rep , risk_prob, type)\n",
    "    \n",
    "    # Risk attitudes\n",
    "    p_chose_risky = model.diff_dist(safe_value, risky_prob, safe_prob)\n",
    "\n",
    "    # The value of the safe option\n",
    "    plt.axvline(safeVal, c='r', ls='--')\n",
    "    # Where the risky option value is the same as the safe option value,\n",
    "    # the probability of chosing should have been 0.5 i there were no biases at all.\n",
    "    plt.axhline(0.5, c='k', ls='--')\n",
    "#     plt.ylim(0.45,0.55)\n",
    "    \n",
    "    # Plotting the risky option value throughout the range and comparing where it crosses the 0.5 probability mark\n",
    "    # and whether it is equal to the actual rational equilibrium that would have been without biases.\n",
    "    plt.plot(riskyVal_range, np.squeeze(p_chose_risky), label=['rep',sigma_rep, \"stim (deg)\",round(sigma_stim*180,2)])\n",
    "\n",
    "    \n",
    "\n",
    "    \n",
    "    plt.xlabel(\"Value of risky option\")\n",
    "    plt.ylabel(\"Prob of chosing risky option\")\n",
    "    plt.title(\"Value Function - \" + type)"
   ]
  },
  {
   "cell_type": "code",
   "execution_count": 22,
   "id": "809375dc",
   "metadata": {},
   "outputs": [
    {
     "data": {
      "application/vnd.jupyter.widget-view+json": {
       "model_id": "55e28a124f5d474b8ac6d042a954cbfc",
       "version_major": 2,
       "version_minor": 0
      },
      "text/plain": [
       "interactive(children=(FloatSlider(value=0.031258846903218444, description='sigma_stim', max=0.0875247713290116…"
      ]
     },
     "metadata": {},
     "output_type": "display_data"
    },
    {
     "data": {
      "text/plain": [
       "<function __main__.plot_riskAttitudes(sigma_stim, sigma_rep)>"
      ]
     },
     "execution_count": 22,
     "metadata": {},
     "output_type": "execute_result"
    }
   ],
   "source": [
    "interact(plot_riskAttitudes, sigma_stim = (low_stim_noise, high_stim_noise, 0.004*1.99*np.pi), sigma_rep = (low_rep_noise, high_rep_noise, 0.002))\n",
    "\n"
   ]
  },
  {
   "cell_type": "code",
   "execution_count": null,
   "id": "5d141684",
   "metadata": {},
   "outputs": [],
   "source": []
  },
  {
   "cell_type": "markdown",
   "id": "921eee32",
   "metadata": {},
   "source": [
    "# Inverse Linear prior"
   ]
  },
  {
   "cell_type": "code",
   "execution_count": null,
   "id": "489d38ad",
   "metadata": {},
   "outputs": [],
   "source": [
    "\n",
    "high_stim_noise = 0.014*1.99*np.pi\n",
    "low_stim_noise = 0.001*1.99*np.pi\n",
    "high_rep_noise = 0.014\n",
    "low_rep_noise = 0.001\n",
    "\n"
   ]
  },
  {
   "cell_type": "code",
   "execution_count": 24,
   "id": "6877b2e2",
   "metadata": {},
   "outputs": [],
   "source": [
    "def plot_riskAttitudes(sigma_stim, sigma_rep):\n",
    "    risk_prob = 0.75\n",
    "    type = \"inverseLinearPrior\"   \n",
    "    \n",
    "    risky_rep = 1.0*sigma_rep\n",
    "\n",
    "    # Getting all the values from actual transformation\n",
    "    rangeOri = np.linspace(13/180., 22.5/180., 11)*np.pi\n",
    "    val_range = model.value_function_ori(rangeOri, type)\n",
    "    safeVal = val_range[0]\n",
    "    riskyVal_range = risk_prob*model.value_function_ori(rangeOri, type)\n",
    "    \n",
    "    # getting inferred values\n",
    "    safe_value, safe_prob = model.value_bayesian_decoding(rangeOri[0], sigma_stim, sigma_rep , type)\n",
    "    risky_value, risky_prob = model.risky_value_dist((rangeOri), sigma_stim, risky_rep , risk_prob, type)\n",
    "    \n",
    "    # Risk attitudes\n",
    "    p_chose_risky = model.diff_dist(safe_value, risky_prob, safe_prob)\n",
    "\n",
    "    # The value of the safe option\n",
    "    plt.axvline(safeVal, c='r', ls='--')\n",
    "    # Where the risky option value is the same as the safe option value,\n",
    "    # the probability of chosing should have been 0.5 i there were no biases at all.\n",
    "    plt.axhline(0.5, c='k', ls='--')\n",
    "#     plt.ylim(0.45,0.55)\n",
    "    \n",
    "    # Plotting the risky option value throughout the range and comparing where it crosses the 0.5 probability mark\n",
    "    # and whether it is equal to the actual rational equilibrium that would have been without biases.\n",
    "    plt.plot(riskyVal_range, np.squeeze(p_chose_risky), label=['rep',sigma_rep, \"stim (deg)\",round(sigma_stim*180,2)])\n",
    "\n",
    "    \n",
    "\n",
    "    \n",
    "    plt.xlabel(\"Value of risky option\")\n",
    "    plt.ylabel(\"Prob of chosing risky option\")\n",
    "    plt.title(\"Value Function - \" + type)"
   ]
  },
  {
   "cell_type": "code",
   "execution_count": 25,
   "id": "cb795c36",
   "metadata": {},
   "outputs": [
    {
     "data": {
      "application/vnd.jupyter.widget-view+json": {
       "model_id": "c2e2423bf48c4885b104dfae1f3120ee",
       "version_major": 2,
       "version_minor": 0
      },
      "text/plain": [
       "interactive(children=(FloatSlider(value=0.031258846903218444, description='sigma_stim', max=0.0875247713290116…"
      ]
     },
     "metadata": {},
     "output_type": "display_data"
    },
    {
     "data": {
      "text/plain": [
       "<function __main__.plot_riskAttitudes(sigma_stim, sigma_rep)>"
      ]
     },
     "execution_count": 25,
     "metadata": {},
     "output_type": "execute_result"
    }
   ],
   "source": [
    "interact(plot_riskAttitudes, sigma_stim = (low_stim_noise, high_stim_noise, 0.004*1.99*np.pi), sigma_rep = (low_rep_noise, high_rep_noise, 0.002))\n",
    "\n",
    "\n"
   ]
  },
  {
   "cell_type": "code",
   "execution_count": null,
   "id": "68f52514",
   "metadata": {},
   "outputs": [],
   "source": []
  },
  {
   "cell_type": "markdown",
   "id": "a347fb06",
   "metadata": {},
   "source": [
    "# More linear prior"
   ]
  },
  {
   "cell_type": "code",
   "execution_count": null,
   "id": "93186ba2",
   "metadata": {},
   "outputs": [],
   "source": []
  },
  {
   "cell_type": "code",
   "execution_count": 18,
   "id": "9e9a1a92",
   "metadata": {},
   "outputs": [],
   "source": [
    "def plot_riskAttitudes(sigma_stim, sigma_rep):\n",
    "    risk_prob = 0.75\n",
    "    type = \"linearPrior\"\n",
    "        \n",
    "    rangeOri = np.linspace(48./180., 52./180., 5)*np.pi\n",
    "    safe_value, safe_prob = model.value_bayesian_decoding(rangeOri[0], sigma_stim, sigma_rep , type)\n",
    "    risky_value, risky_prob = model.risky_value_dist((rangeOri), sigma_stim, sigma_rep , risk_prob, type) \n",
    "#     p_chose_risky = model.diff_dist(safe_value, safe_prob, risky_prob)\n",
    "    p_chose_risky = model.diff_dist(safe_value, risky_prob, safe_prob)\n",
    "    safeVal = model.value_function_ori(rangeOri[0], type)\n",
    "    riskyVal = risk_prob*model.value_function_ori(rangeOri, type)\n",
    "    risky_ori = interp1d(riskyVal, rangeOri)\n",
    "    rationalEquilibrium = risky_ori(safeVal)*180/np.pi\n",
    "    plt.axvline(rationalEquilibrium, c='k', ls='--')\n",
    "    plt.axhline(0.5, c='k', ls='--')\n",
    "    plt.plot(rangeOri*180.0/np.pi, np.squeeze(p_chose_risky), label=['rep',sigma_rep, \"stim (deg)\",round(sigma_stim*180,2)])\n",
    "        \n",
    "    rangeOri = np.linspace(52./180., 59./180., 8)*np.pi\n",
    "    safe_value, safe_prob = model.value_bayesian_decoding(rangeOri[0], sigma_stim, sigma_rep , type)\n",
    "    risky_value, risky_prob = model.risky_value_dist((rangeOri), sigma_stim, sigma_rep , risk_prob, type) \n",
    "#     p_chose_risky = model.diff_dist(safe_value, safe_prob, risky_prob)\n",
    "    p_chose_risky = model.diff_dist(safe_value, risky_prob, safe_prob)\n",
    "    safeVal = model.value_function_ori(rangeOri[0], type)\n",
    "    riskyVal = risk_prob*model.value_function_ori(rangeOri, type)\n",
    "    risky_ori = interp1d(riskyVal, rangeOri)\n",
    "    rationalEquilibrium = risky_ori(safeVal)*180/np.pi\n",
    "    plt.axvline(rationalEquilibrium, c='k', ls='--')\n",
    "    plt.axhline(0.5, c='k', ls='--')\n",
    "    plt.plot(rangeOri*180.0/np.pi, np.squeeze(p_chose_risky), label=['rep',sigma_rep, \"stim (deg)\",round(sigma_stim*180,2)])\n",
    "    \n",
    "    rangeOri = np.linspace(59./180., 70./180., 12)*np.pi\n",
    "    safe_value, safe_prob = model.value_bayesian_decoding(rangeOri[0], sigma_stim, sigma_rep , type)\n",
    "    risky_value, risky_prob = model.risky_value_dist((rangeOri), sigma_stim, sigma_rep , risk_prob, type) \n",
    "#     p_chose_risky = model.diff_dist(safe_value, safe_prob, risky_prob)\n",
    "    p_chose_risky = model.diff_dist(safe_value, risky_prob, safe_prob)\n",
    "    safeVal = model.value_function_ori(rangeOri[0], type)\n",
    "    riskyVal = risk_prob*model.value_function_ori(rangeOri, type)\n",
    "    risky_ori = interp1d(riskyVal, rangeOri)\n",
    "    rationalEquilibrium = risky_ori(safeVal)*180/np.pi\n",
    "    plt.axvline(rationalEquilibrium, c='k', ls='--')\n",
    "    plt.axhline(0.5, c='k', ls='--')\n",
    "    plt.plot(rangeOri*180.0/np.pi, np.squeeze(p_chose_risky), label=['rep',sigma_rep, \"stim (deg)\",round(sigma_stim*180,2)])\n",
    "    \n",
    "\n",
    "    rangeOri = np.linspace(71./180., 88./180., 18)*np.pi\n",
    "    safe_value, safe_prob = model.value_bayesian_decoding(rangeOri[0], sigma_stim, sigma_rep , type)\n",
    "    risky_value, risky_prob = model.risky_value_dist((rangeOri), sigma_stim, sigma_rep , risk_prob, type) \n",
    "#     p_chose_risky = model.diff_dist(safe_value, safe_prob, risky_prob)\n",
    "    p_chose_risky = model.diff_dist(safe_value, risky_prob, safe_prob)\n",
    "    safeVal = model.value_function_ori(rangeOri[0], type)\n",
    "    riskyVal = risk_prob*model.value_function_ori(rangeOri, type)\n",
    "    risky_ori = interp1d(riskyVal, rangeOri)\n",
    "    rationalEquilibrium = risky_ori(safeVal)*180/np.pi\n",
    "    plt.axvline(rationalEquilibrium, c='k', ls='--')\n",
    "    plt.axhline(0.5, c='k', ls='--')\n",
    "    plt.plot(rangeOri*180.0/np.pi, np.squeeze(p_chose_risky), label=['rep',sigma_rep, \"stim (deg)\",round(sigma_stim*180,2)])\n",
    "    \n",
    "    \n",
    "    \n",
    "    plt.xlabel(\"orientation of risky option\")\n",
    "    plt.ylabel(\"prob of chosing risky option\")\n",
    "    plt.title(\"Value Function - linearPrior\")"
   ]
  },
  {
   "cell_type": "code",
   "execution_count": 19,
   "id": "e5b5ea2a",
   "metadata": {},
   "outputs": [
    {
     "data": {
      "application/vnd.jupyter.widget-view+json": {
       "model_id": "c57362f059304e2c8c9f5e881881458c",
       "version_major": 2,
       "version_minor": 0
      },
      "text/plain": [
       "interactive(children=(FloatSlider(value=0.043633231299858244, description='sigma_stim', max=0.0872664625997164…"
      ]
     },
     "metadata": {},
     "output_type": "display_data"
    },
    {
     "data": {
      "text/plain": [
       "<function __main__.plot_riskAttitudes(sigma_stim, sigma_rep)>"
      ]
     },
     "execution_count": 19,
     "metadata": {},
     "output_type": "execute_result"
    }
   ],
   "source": [
    "interact(plot_riskAttitudes, sigma_stim = ((0.1/180.0)*np.pi, (5./180.0)*np.pi, (0.1/180.0)*np.pi), sigma_rep = ((0.1/180.0), (5./180.0), (0.2/180.0)))"
   ]
  },
  {
   "cell_type": "code",
   "execution_count": 20,
   "id": "2157b7f5",
   "metadata": {},
   "outputs": [],
   "source": [
    "def plot_riskAttitudesValue(sigma_stim, sigma_rep):\n",
    "    risk_prob = 0.75\n",
    "    type = \"linearPrior\"\n",
    "\n",
    "    rangeOri = np.linspace(48./180., 52./180., 5)*np.pi\n",
    "    safe_value, safe_prob = model.value_bayesian_decoding(rangeOri[0], sigma_stim, sigma_rep , type)\n",
    "    risky_value, risky_prob = model.risky_value_dist((rangeOri), sigma_stim, sigma_stim , risk_prob, type) \n",
    "    p_chose_risky = model.diff_dist(safe_value, risky_prob, safe_prob)\n",
    "    safeVal = model.value_function_ori(rangeOri[0], type)\n",
    "    riskyVal = risk_prob*model.value_function_ori(rangeOri, type)\n",
    "    plt.axvline(0, c='k', ls='--')\n",
    "    plt.axhline(0.5, c='k', ls='--')\n",
    "    plt.plot(riskyVal - safeVal, np.squeeze(p_chose_risky), label=['rep',sigma_rep, \"stim (deg)\",round(sigma_stim*180,2)])\n",
    "\n",
    "    rangeOri = np.linspace(52./180., 59./180., 8)*np.pi\n",
    "    safe_value, safe_prob = model.value_bayesian_decoding(rangeOri[0], sigma_stim, sigma_rep , type)\n",
    "    risky_value, risky_prob = model.risky_value_dist((rangeOri), sigma_stim, sigma_stim , risk_prob, type) \n",
    "    p_chose_risky = model.diff_dist(safe_value, risky_prob, safe_prob)\n",
    "    safeVal = model.value_function_ori(rangeOri[0], type)\n",
    "    riskyVal = risk_prob*model.value_function_ori(rangeOri, type)\n",
    "    plt.axvline(0, c='k', ls='--')\n",
    "    plt.axhline(0.5, c='k', ls='--')\n",
    "    plt.plot(riskyVal - safeVal, np.squeeze(p_chose_risky), label=['rep',sigma_rep, \"stim (deg)\",round(sigma_stim*180,2)])\n",
    "\n",
    "\n",
    "    rangeOri = np.linspace(59./180., 70./180., 12)*np.pi\n",
    "    safe_value, safe_prob = model.value_bayesian_decoding(rangeOri[0], sigma_stim, sigma_rep , type)\n",
    "    risky_value, risky_prob = model.risky_value_dist((rangeOri), sigma_stim, sigma_stim , risk_prob, type) \n",
    "    p_chose_risky = model.diff_dist(safe_value, risky_prob, safe_prob)\n",
    "    safeVal = model.value_function_ori(rangeOri[0], type)\n",
    "    riskyVal = risk_prob*model.value_function_ori(rangeOri, type)\n",
    "    plt.axvline(0, c='k', ls='--')\n",
    "    plt.axhline(0.5, c='k', ls='--')\n",
    "    plt.plot(riskyVal - safeVal, np.squeeze(p_chose_risky), label=['rep',sigma_rep, \"stim (deg)\",round(sigma_stim*180,2)])\n",
    "\n",
    "\n",
    "    rangeOri = np.linspace(71./180., 88./180., 18)*np.pi\n",
    "    safe_value, safe_prob = model.value_bayesian_decoding(rangeOri[0], sigma_stim, sigma_rep , type)\n",
    "    risky_value, risky_prob = model.risky_value_dist((rangeOri), sigma_stim, sigma_stim , risk_prob, type) \n",
    "    p_chose_risky = model.diff_dist(safe_value, risky_prob, safe_prob)\n",
    "    safeVal = model.value_function_ori(rangeOri[0], type)\n",
    "    riskyVal = risk_prob*model.value_function_ori(rangeOri, type)\n",
    "    plt.axvline(0, c='k', ls='--')\n",
    "    plt.axhline(0.5, c='k', ls='--')\n",
    "    plt.plot(riskyVal - safeVal, np.squeeze(p_chose_risky), label=['rep',sigma_rep, \"stim (deg)\",round(sigma_stim*180,2)])\n",
    "\n",
    "\n",
    "\n",
    "\n",
    "    plt.xlabel(\"Value Difference\")\n",
    "    plt.ylabel(\"prob of chosing risky option\")\n",
    "    plt.title(\"Value Function - linear Prior\")"
   ]
  },
  {
   "cell_type": "code",
   "execution_count": 21,
   "id": "d646c575",
   "metadata": {},
   "outputs": [
    {
     "data": {
      "application/vnd.jupyter.widget-view+json": {
       "model_id": "51b1f095a6894538a1551cf50f054579",
       "version_major": 2,
       "version_minor": 0
      },
      "text/plain": [
       "interactive(children=(FloatSlider(value=0.043633231299858244, description='sigma_stim', max=0.0872664625997164…"
      ]
     },
     "metadata": {},
     "output_type": "display_data"
    },
    {
     "data": {
      "text/plain": [
       "<function __main__.plot_riskAttitudesValue(sigma_stim, sigma_rep)>"
      ]
     },
     "execution_count": 21,
     "metadata": {},
     "output_type": "execute_result"
    }
   ],
   "source": [
    "interact(plot_riskAttitudesValue, sigma_stim = ((0.1/180.0)*np.pi, (5./180.0)*np.pi, (0.1/180.0)*np.pi), sigma_rep = ((0.1/180.0), (5./180.0), (0.2/180.0)))"
   ]
  },
  {
   "cell_type": "code",
   "execution_count": 22,
   "id": "1a124a84",
   "metadata": {},
   "outputs": [],
   "source": [
    "def plot_riskAttitudes(sigma_stim, sigma_rep):\n",
    "    risk_prob = 0.75\n",
    "    type = \"inverseLinearPrior\"\n",
    "        \n",
    "    rangeOri = np.linspace(3./180., 7./180., 5)*np.pi\n",
    "    safe_value, safe_prob = model.value_bayesian_decoding(rangeOri[0], sigma_stim, sigma_rep , type)\n",
    "    risky_value, risky_prob = model.risky_value_dist((rangeOri), sigma_stim, sigma_stim , risk_prob, type) \n",
    "    p_chose_risky = model.diff_dist(safe_value, risky_prob, safe_prob)\n",
    "    safeVal = model.value_function_ori(rangeOri[0], type)\n",
    "    riskyVal = risk_prob*model.value_function_ori(rangeOri, type)\n",
    "    risky_ori = interp1d(riskyVal, rangeOri)\n",
    "    rationalEquilibrium = risky_ori(safeVal)*180/np.pi\n",
    "    plt.axvline(rationalEquilibrium, c='k', ls='--')\n",
    "    plt.axhline(0.5, c='k', ls='--')\n",
    "    plt.plot(rangeOri*180.0/np.pi, np.squeeze(p_chose_risky), label=['rep',sigma_rep, \"stim (deg)\",round(sigma_stim*180,2)])\n",
    "        \n",
    "    rangeOri = np.linspace(7./180., 14./180., 8)*np.pi\n",
    "    safe_value, safe_prob = model.value_bayesian_decoding(rangeOri[0], sigma_stim, sigma_rep , type)\n",
    "    risky_value, risky_prob = model.risky_value_dist((rangeOri), sigma_stim, sigma_stim , risk_prob, type) \n",
    "    p_chose_risky = model.diff_dist(safe_value, risky_prob, safe_prob)\n",
    "    safeVal = model.value_function_ori(rangeOri[0], type)\n",
    "    riskyVal = risk_prob*model.value_function_ori(rangeOri, type)\n",
    "    risky_ori = interp1d(riskyVal, rangeOri)\n",
    "    rationalEquilibrium = risky_ori(safeVal)*180/np.pi\n",
    "    plt.axvline(rationalEquilibrium, c='k', ls='--')\n",
    "    plt.axhline(0.5, c='k', ls='--')\n",
    "    plt.plot(rangeOri*180.0/np.pi, np.squeeze(p_chose_risky), label=['rep',sigma_rep, \"stim (deg)\",round(sigma_stim*180,2)])\n",
    "    \n",
    "    rangeOri = np.linspace(14./180., 26./180., 12)*np.pi\n",
    "    safe_value, safe_prob = model.value_bayesian_decoding(rangeOri[0], sigma_stim, sigma_rep , type)\n",
    "    risky_value, risky_prob = model.risky_value_dist((rangeOri), sigma_stim, sigma_stim , risk_prob, type) \n",
    "    p_chose_risky = model.diff_dist(safe_value, risky_prob, safe_prob)\n",
    "    safeVal = model.value_function_ori(rangeOri[0], type)\n",
    "    riskyVal = risk_prob*model.value_function_ori(rangeOri, type)\n",
    "    risky_ori = interp1d(riskyVal, rangeOri)\n",
    "    rationalEquilibrium = risky_ori(safeVal)*180/np.pi\n",
    "    plt.axvline(rationalEquilibrium, c='k', ls='--')\n",
    "    plt.axhline(0.5, c='k', ls='--')\n",
    "    plt.plot(rangeOri*180.0/np.pi, np.squeeze(p_chose_risky), label=['rep',sigma_rep, \"stim (deg)\",round(sigma_stim*180,2)])\n",
    "    \n",
    "\n",
    "    rangeOri = np.linspace(26./180., 43./180., 18)*np.pi\n",
    "    safe_value, safe_prob = model.value_bayesian_decoding(rangeOri[0], sigma_stim, sigma_rep , type)\n",
    "    risky_value, risky_prob = model.risky_value_dist((rangeOri), sigma_stim, sigma_stim , risk_prob, type) \n",
    "    p_chose_risky = model.diff_dist(safe_value, risky_prob, safe_prob)\n",
    "    safeVal = model.value_function_ori(rangeOri[0], type)\n",
    "    riskyVal = risk_prob*model.value_function_ori(rangeOri, type)\n",
    "    risky_ori = interp1d(riskyVal, rangeOri)\n",
    "    rationalEquilibrium = risky_ori(safeVal)*180/np.pi\n",
    "    plt.axvline(rationalEquilibrium, c='k', ls='--')\n",
    "    plt.axhline(0.5, c='k', ls='--')\n",
    "    plt.plot(rangeOri*180.0/np.pi, np.squeeze(p_chose_risky), label=['rep',sigma_rep, \"stim (deg)\",round(sigma_stim*180,2)])\n",
    "    \n",
    "    \n",
    "    \n",
    "    plt.xlabel(\"orientation of risky option\")\n",
    "    plt.ylabel(\"prob of chosing risky option\")\n",
    "    plt.title(\"Value Function - inverseLinearPrior\")"
   ]
  },
  {
   "cell_type": "code",
   "execution_count": 23,
   "id": "4d40aa12",
   "metadata": {},
   "outputs": [
    {
     "data": {
      "application/vnd.jupyter.widget-view+json": {
       "model_id": "f6bf15c871a1463e8b5c4895dbaafe5d",
       "version_major": 2,
       "version_minor": 0
      },
      "text/plain": [
       "interactive(children=(FloatSlider(value=0.043633231299858244, description='sigma_stim', max=0.0872664625997164…"
      ]
     },
     "metadata": {},
     "output_type": "display_data"
    },
    {
     "data": {
      "text/plain": [
       "<function __main__.plot_riskAttitudes(sigma_stim, sigma_rep)>"
      ]
     },
     "execution_count": 23,
     "metadata": {},
     "output_type": "execute_result"
    }
   ],
   "source": [
    "interact(plot_riskAttitudes, sigma_stim = ((0.1/180.0)*np.pi, (5./180.0)*np.pi, (0.1/180.0)*np.pi), sigma_rep = ((0.1/180.0), (5./180.0), (0.2/180.0)))"
   ]
  },
  {
   "cell_type": "code",
   "execution_count": 24,
   "id": "3c149508",
   "metadata": {},
   "outputs": [],
   "source": [
    "def plot_riskAttitudesValue(sigma_stim, sigma_rep):\n",
    "    risk_prob = 0.75\n",
    "    type = \"inverseLinearPrior\"\n",
    "\n",
    "    rangeOri = np.linspace(3./180., 7./180., 5)*np.pi\n",
    "    safe_value, safe_prob = model.value_bayesian_decoding(rangeOri[0], sigma_stim, sigma_rep , type)\n",
    "    risky_value, risky_prob = model.risky_value_dist((rangeOri), sigma_stim, sigma_stim , risk_prob, type) \n",
    "    p_chose_risky = model.diff_dist(safe_value, risky_prob, safe_prob)\n",
    "    safeVal = model.value_function_ori(rangeOri[0], type)\n",
    "    riskyVal = risk_prob*model.value_function_ori(rangeOri, type)\n",
    "    plt.axvline(0, c='k', ls='--')\n",
    "    plt.axhline(0.5, c='k', ls='--')\n",
    "    plt.plot(riskyVal - safeVal, np.squeeze(p_chose_risky), label=['rep',sigma_rep, \"stim (deg)\",round(sigma_stim*180,2)])\n",
    "\n",
    "    rangeOri = np.linspace(7./180., 14./180., 8)*np.pi\n",
    "    safe_value, safe_prob = model.value_bayesian_decoding(rangeOri[0], sigma_stim, sigma_rep , type)\n",
    "    risky_value, risky_prob = model.risky_value_dist((rangeOri), sigma_stim, sigma_stim , risk_prob, type) \n",
    "    p_chose_risky = model.diff_dist(safe_value, risky_prob, safe_prob)\n",
    "    safeVal = model.value_function_ori(rangeOri[0], type)\n",
    "    riskyVal = risk_prob*model.value_function_ori(rangeOri, type)\n",
    "    plt.axvline(0, c='k', ls='--')\n",
    "    plt.axhline(0.5, c='k', ls='--')\n",
    "    plt.plot(riskyVal - safeVal, np.squeeze(p_chose_risky), label=['rep',sigma_rep, \"stim (deg)\",round(sigma_stim*180,2)])\n",
    "\n",
    "\n",
    "    rangeOri = np.linspace(14./180., 26./180., 12)*np.pi\n",
    "    safe_value, safe_prob = model.value_bayesian_decoding(rangeOri[0], sigma_stim, sigma_rep , type)\n",
    "    risky_value, risky_prob = model.risky_value_dist((rangeOri), sigma_stim, sigma_stim , risk_prob, type) \n",
    "    p_chose_risky = model.diff_dist(safe_value, risky_prob, safe_prob)\n",
    "    safeVal = model.value_function_ori(rangeOri[0], type)\n",
    "    riskyVal = risk_prob*model.value_function_ori(rangeOri, type)\n",
    "    plt.axvline(0, c='k', ls='--')\n",
    "    plt.axhline(0.5, c='k', ls='--')\n",
    "    plt.plot(riskyVal - safeVal, np.squeeze(p_chose_risky), label=['rep',sigma_rep, \"stim (deg)\",round(sigma_stim*180,2)])\n",
    "\n",
    "\n",
    "    rangeOri = np.linspace(26./180., 43./180., 18)*np.pi\n",
    "    safe_value, safe_prob = model.value_bayesian_decoding(rangeOri[0], sigma_stim, sigma_rep , type)\n",
    "    risky_value, risky_prob = model.risky_value_dist((rangeOri), sigma_stim, sigma_stim , risk_prob, type) \n",
    "    p_chose_risky = model.diff_dist(safe_value, risky_prob, safe_prob)\n",
    "    safeVal = model.value_function_ori(rangeOri[0], type)\n",
    "    riskyVal = risk_prob*model.value_function_ori(rangeOri, type)\n",
    "    plt.axvline(0, c='k', ls='--')\n",
    "    plt.axhline(0.5, c='k', ls='--')\n",
    "    plt.plot(riskyVal - safeVal, np.squeeze(p_chose_risky), label=['rep',sigma_rep, \"stim (deg)\",round(sigma_stim*180,2)])\n",
    "\n",
    "\n",
    "\n",
    "\n",
    "    plt.xlabel(\"Value Difference\")\n",
    "    plt.ylabel(\"prob of chosing risky option\")\n",
    "    plt.title(\"Value Function - inverse linear Prior\")"
   ]
  },
  {
   "cell_type": "code",
   "execution_count": 25,
   "id": "7688982b",
   "metadata": {},
   "outputs": [
    {
     "data": {
      "application/vnd.jupyter.widget-view+json": {
       "model_id": "948ce1068b7f48619866f718bfaa000d",
       "version_major": 2,
       "version_minor": 0
      },
      "text/plain": [
       "interactive(children=(FloatSlider(value=0.043633231299858244, description='sigma_stim', max=0.0872664625997164…"
      ]
     },
     "metadata": {},
     "output_type": "display_data"
    },
    {
     "data": {
      "text/plain": [
       "<function __main__.plot_riskAttitudesValue(sigma_stim, sigma_rep)>"
      ]
     },
     "execution_count": 25,
     "metadata": {},
     "output_type": "execute_result"
    }
   ],
   "source": [
    "interact(plot_riskAttitudesValue, sigma_stim = ((0.1/180.0)*np.pi, (5./180.0)*np.pi, (0.1/180.0)*np.pi), sigma_rep = ((0.1/180.0), (5./180.0), (0.2/180.0)))"
   ]
  },
  {
   "cell_type": "code",
   "execution_count": null,
   "id": "0da59b7b",
   "metadata": {},
   "outputs": [],
   "source": []
  },
  {
   "cell_type": "code",
   "execution_count": null,
   "id": "040711bc",
   "metadata": {},
   "outputs": [],
   "source": []
  },
  {
   "cell_type": "code",
   "execution_count": null,
   "id": "0f2de98f",
   "metadata": {},
   "outputs": [],
   "source": []
  },
  {
   "cell_type": "code",
   "execution_count": null,
   "id": "379f5d53",
   "metadata": {},
   "outputs": [],
   "source": []
  }
 ],
 "metadata": {
  "kernelspec": {
   "display_name": "Python 3 (ipykernel)",
   "language": "python",
   "name": "python3"
  },
  "language_info": {
   "codemirror_mode": {
    "name": "ipython",
    "version": 3
   },
   "file_extension": ".py",
   "mimetype": "text/x-python",
   "name": "python",
   "nbconvert_exporter": "python",
   "pygments_lexer": "ipython3",
   "version": "3.8.5"
  }
 },
 "nbformat": 4,
 "nbformat_minor": 5
}
